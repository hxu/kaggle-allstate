{
 "metadata": {
  "name": ""
 },
 "nbformat": 3,
 "nbformat_minor": 0,
 "worksheets": [
  {
   "cells": [
    {
     "cell_type": "code",
     "collapsed": false,
     "input": [
      "%pylab inline\n",
      "import pandas as pd\n",
      "import numpy as np\n",
      "def perms(x):                         \n",
      "    b=\"\"\n",
      "    for i in ['A','B','C','D','E']:\n",
      "        b=b+str(x[i])\n",
      "    return(b)\n",
      "\n",
      "data=pd.read_csv(\"train-2.csv\")\n",
      "data['combo']=data.apply(perms,axis=1)"
     ],
     "language": "python",
     "metadata": {},
     "outputs": [
      {
       "output_type": "stream",
       "stream": "stdout",
       "text": [
        "Populating the interactive namespace from numpy and matplotlib\n"
       ]
      },
      {
       "output_type": "stream",
       "stream": "stderr",
       "text": [
        "/Users/timothyelser/anaconda/lib/python2.7/site-packages/pytz/__init__.py:29: UserWarning: Module argparse was already imported from /Users/timothyelser/anaconda/python.app/Contents/lib/python2.7/argparse.pyc, but /Users/timothyelser/anaconda/lib/python2.7/site-packages is being added to sys.path\n",
        "  from pkg_resources import resource_stream\n"
       ]
      }
     ],
     "prompt_number": 1
    },
    {
     "cell_type": "code",
     "collapsed": false,
     "input": [
      "def build_var(x,n=.3):\n",
      "    B=geometric(n)\n",
      "    val=0\n",
      "    if B+1 >=max(x['shopping_pt']):\n",
      "        E=max(x['shopping_pt'])-1\n",
      "    if B >=max(x['shopping_pt']):\n",
      "        E=max(x['shopping_pt'])-1\n",
      "    else:\n",
      "        E=B\n",
      "    c=list(x['combo'][x['shopping_pt']==E])[0]\n",
      "    b=list(x['combo'][x['shopping_pt']==max(x['shopping_pt'])])[0]\n",
      "    \n",
      "    #f=list(x['combo'][x['shopping_pt']==E-1])[0]\n",
      "    returndict=pd.Series({'prior_seq':c,'purchased':b,'car_age':list(x['car_age'][x['shopping_pt']==E])[0],'day':list(x['day'][x['shopping_pt']==E])[0],'homeowner':list(x['homeowner'][x['shopping_pt']==E])[0],'state':list(x['state'][x['shopping_pt']==E])[0],'location':list(x['location'][x['shopping_pt']==E])[0],'group_size':list(x['group_size'][x['shopping_pt']==E])[0],'car_value':list(x['car_age'][x['shopping_pt']==E])[0],'age_youngest':list(x['age_youngest'][x['shopping_pt']==E])[0],'age_oldest':list(x['age_oldest'][x['shopping_pt']==E])[0],'married_couple':list(x['married_couple'][x['shopping_pt']==E])[0],'duration_previous':list(x['duration_previous'][x['shopping_pt']==E])[0]})\n",
      "                          \n",
      "\n",
      "    #x['duration_previous']=list(x['duration_previous'][x['shopping_pt']==E])[0]\n",
      "    return(returndict)\n",
      "    #  u'married_couple', u'C_previous', u'duration_previous', u'A', u'B', u'C', u'D', u'E', u'F', u'G', u'cost', u'combo'"
     ],
     "language": "python",
     "metadata": {},
     "outputs": [],
     "prompt_number": 11
    },
    {
     "cell_type": "code",
     "collapsed": false,
     "input": [
      "datafixed=data.groupby('customer_ID').apply(build_var)"
     ],
     "language": "python",
     "metadata": {},
     "outputs": [],
     "prompt_number": 12
    },
    {
     "cell_type": "code",
     "collapsed": false,
     "input": [
      "datafixed.to_csv(\"transformed_data1.csv\",index=False)"
     ],
     "language": "python",
     "metadata": {},
     "outputs": [],
     "prompt_number": 13
    },
    {
     "cell_type": "code",
     "collapsed": false,
     "input": [
      "def build_var2(x,n=.3):\n",
      "    B=geometric(n)\n",
      "    val=0\n",
      "    if B+1 >=max(x['shopping_pt']):\n",
      "        E=max(x['shopping_pt'])-1\n",
      "    if B >=max(x['shopping_pt']):\n",
      "        E=max(x['shopping_pt'])-1\n",
      "    else:\n",
      "        E=B\n",
      "    c=list(x['combo'][x['shopping_pt']==E])[0]\n",
      "    b=list(x['combo'][x['shopping_pt']==max(x['shopping_pt'])])[0]\n",
      "    try:\n",
      "        f=list(x['combo'][x['shopping_pt']==E-1])[0]\n",
      "    except:\n",
      "        f=9\n",
      "    returndict=pd.Series({'prior_seq2':f,'prior_seq1':c,'purchased':b,'car_age':list(x['car_age'][x['shopping_pt']==E])[0],'day':list(x['day'][x['shopping_pt']==E])[0],'homeowner':list(x['homeowner'][x['shopping_pt']==E])[0],'state':list(x['state'][x['shopping_pt']==E])[0],'location':list(x['location'][x['shopping_pt']==E])[0],'group_size':list(x['group_size'][x['shopping_pt']==E])[0],'car_value':list(x['car_age'][x['shopping_pt']==E])[0],'age_youngest':list(x['age_youngest'][x['shopping_pt']==E])[0],'age_oldest':list(x['age_oldest'][x['shopping_pt']==E])[0],'married_couple':list(x['married_couple'][x['shopping_pt']==E])[0],'duration_previous':list(x['duration_previous'][x['shopping_pt']==E])[0]})\n",
      "\n",
      "\n",
      "    #x['duration_previous']=list(x['duration_previous'][x['shopping_pt']==E])[0]\n",
      "    return(returndict)"
     ],
     "language": "python",
     "metadata": {},
     "outputs": [],
     "prompt_number": 23
    },
    {
     "cell_type": "code",
     "collapsed": false,
     "input": [
      "datafixed=data.groupby('customer_ID').apply(build_var2)"
     ],
     "language": "python",
     "metadata": {},
     "outputs": [],
     "prompt_number": 24
    },
    {
     "cell_type": "code",
     "collapsed": false,
     "input": [
      "datafixed.to_csv(\"twopriors.csv\",index=False)"
     ],
     "language": "python",
     "metadata": {},
     "outputs": [],
     "prompt_number": 27
    }
   ],
   "metadata": {}
  }
 ]
}