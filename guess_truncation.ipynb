{
 "metadata": {
  "name": ""
 },
 "nbformat": 3,
 "nbformat_minor": 0,
 "worksheets": [
  {
   "cells": [
    {
     "cell_type": "code",
     "collapsed": false,
     "input": [
      "%pylab inline\n",
      "import pandas as pd\n",
      "def perms(x):                         \n",
      "    b=\"\"\n",
      "    for i in ['A','B','C','D','E']:\n",
      "        b=b+str(x[i])\n",
      "    return(b)\n",
      "\n",
      "data=pd.read_csv(\"train-2.csv\")\n",
      "data['combo']=data.apply(perms,axis=1)"
     ],
     "language": "python",
     "metadata": {},
     "outputs": [
      {
       "output_type": "stream",
       "stream": "stdout",
       "text": [
        "Populating the interactive namespace from numpy and matplotlib\n"
       ]
      },
      {
       "output_type": "stream",
       "stream": "stderr",
       "text": [
        "/Users/timothyelser/anaconda/lib/python2.7/site-packages/pytz/__init__.py:29: UserWarning: Module argparse was already imported from /Users/timothyelser/anaconda/python.app/Contents/lib/python2.7/argparse.pyc, but /Users/timothyelser/anaconda/lib/python2.7/site-packages is being added to sys.path\n",
        "  from pkg_resources import resource_stream\n"
       ]
      }
     ],
     "prompt_number": 1
    },
    {
     "cell_type": "code",
     "collapsed": false,
     "input": [
      "'''The test set histories are truncated. If the real process went something like:\n",
      "\n",
      "Quote1\n",
      "Quote2\n",
      "Quote3\n",
      "Quote4\n",
      "Purchase\n",
      "\n",
      "The test set could just have:\n",
      "\n",
      "Quote1\n",
      "Quote2\n",
      "\n",
      "(or any of the quote subsequences up until the purchase). The training set obviously always has the entire sequence. This means that the last quoted plan in the training set is always the quote right before they purchase. In the test set the last quoted plan could be many steps before the purchase.\n",
      "'''\n",
      "data['combo']=data.apply(perms,axis=1)\n",
      "group=data.groupby('customer_ID')"
     ],
     "language": "python",
     "metadata": {},
     "outputs": [],
     "prompt_number": 6
    },
    {
     "cell_type": "code",
     "collapsed": false,
     "input": [
      "import random\n",
      "from numpy.random import randint\n",
      "def sum_2(x):\n",
      "    B=randint(1,max(x['shopping_pt']))\n",
      "    return(x['combo'][x['shopping_pt']==B])\n",
      "\n",
      "def eval_(x):\n",
      "    B=randint(1,max(x['shopping_pt']))\n",
      "    c=list(x['combo'][x['shopping_pt']==B])[0]\n",
      "    b=list(x['combo'][x['shopping_pt']==max(x['shopping_pt'])])[0]\n",
      "    if c==b:\n",
      "        return(1)\n",
      "    else:\n",
      "        return(0)\n",
      "    \n",
      "def eval_2(x):\n",
      "    B=randint(1,max(x['shopping_pt']))\n",
      "    c=list(x['combo'][x['shopping_pt']==max(1,max(x['shopping_pt'])-1)])[0]\n",
      "    b=list(x['combo'][x['shopping_pt']==max(x['shopping_pt'])])[0]\n",
      "    if c==b:\n",
      "        return(1)\n",
      "    else:\n",
      "        return(0)\n",
      "def select_end(x,n=.2):\n",
      "    B=geometric(n)\n",
      "    if B+1 >=max(x['shopping_pt']):\n",
      "        return(max(x['shopping_pt'])-1)\n",
      "    if B >=max(x['shopping_pt']):\n",
      "        return(max(x['shopping_pt'])-1)\n",
      "    else:\n",
      "        return(B+1)\n",
      "    \n",
      "        "
     ],
     "language": "python",
     "metadata": {},
     "outputs": [],
     "prompt_number": 16
    },
    {
     "cell_type": "code",
     "collapsed": false,
     "input": [
      "print data[['customer_ID','combo']].head(10)\n",
      "#A=group.apply(eval_)\n",
      "B=group.apply(eval_2)\n",
      "#group.groups"
     ],
     "language": "python",
     "metadata": {},
     "outputs": [
      {
       "output_type": "stream",
       "stream": "stdout",
       "text": [
        "   customer_ID  combo\n",
        "0     10000000  10221\n",
        "1     10000000  10221\n",
        "2     10000000  10221\n",
        "3     10000000  10221\n",
        "4     10000000  10221\n",
        "5     10000000  10221\n",
        "6     10000000  10221\n",
        "7     10000000  10221\n",
        "8     10000000  10221\n",
        "9     10000005  11331\n",
        "\n",
        "[10 rows x 2 columns]\n"
       ]
      }
     ],
     "prompt_number": 11
    },
    {
     "cell_type": "code",
     "collapsed": false,
     "input": [
      "A=group.apply(select_end)"
     ],
     "language": "python",
     "metadata": {},
     "outputs": [],
     "prompt_number": 17
    },
    {
     "cell_type": "code",
     "collapsed": false,
     "input": [
      "#data['C_previous']\n",
      "def select_end(x,n=.3):\n",
      "    B=geometric(n)\n",
      "    if B+1 >=max(x['shopping_pt']):\n",
      "        return(max(x['shopping_pt'])-1)\n",
      "    if B >=max(x['shopping_pt']):\n",
      "        return(max(x['shopping_pt'])-1)\n",
      "    else:\n",
      "        return(B+1)\n",
      "A=group.apply(select_end)\n",
      "(A.value_counts()/len(set(data['customer_ID']))).plot(kind='bar',legend=False)"
     ],
     "language": "python",
     "metadata": {},
     "outputs": [
      {
       "metadata": {},
       "output_type": "pyout",
       "prompt_number": 28,
       "text": [
        "<matplotlib.axes.AxesSubplot at 0x11072bd90>"
       ]
      },
      {
       "metadata": {},
       "output_type": "display_data",
       "png": "[encoded data removed]",
       "text": [
        "<matplotlib.figure.Figure at 0x110730e50>"
       ]
      }
     ],
     "prompt_number": 28
    },
    {
     "cell_type": "code",
     "collapsed": false,
     "input": [
      "data2=pd.read_csv(\"test_v2.csv\")\n",
      "(data2['customer_ID'].value_counts().value_counts()/len(set(data2['customer_ID']))).plot(kind='bar',legend=False)"
     ],
     "language": "python",
     "metadata": {},
     "outputs": [
      {
       "metadata": {},
       "output_type": "pyout",
       "prompt_number": 27,
       "text": [
        "<matplotlib.axes.AxesSubplot at 0x109709c90>"
       ]
      },
      {
       "metadata": {},
       "output_type": "display_data",
       "png": "[encoded data removed]",
       "text": [
        "<matplotlib.figure.Figure at 0x10060e690>"
       ]
      }
     ],
     "prompt_number": 27
    },
    {
     "cell_type": "code",
     "collapsed": false,
     "input": [
      "from numpy.random import geometric"
     ],
     "language": "python",
     "metadata": {},
     "outputs": [],
     "prompt_number": 2
    },
    {
     "cell_type": "code",
     "collapsed": false,
     "input": [
      "geometric(.2)"
     ],
     "language": "python",
     "metadata": {},
     "outputs": [
      {
       "metadata": {},
       "output_type": "pyout",
       "prompt_number": 3,
       "text": [
        "5"
       ]
      }
     ],
     "prompt_number": 3
    }
   ],
   "metadata": {}
  }
 ]
}