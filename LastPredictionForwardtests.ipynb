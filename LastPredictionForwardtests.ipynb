{
 "metadata": {
  "name": "",
  "signature": "sha256:6b8eb46696ac3c273d3a455ee230efd570caf263a066021e02eedf07f118ce97"
 },
 "nbformat": 3,
 "nbformat_minor": 0,
 "worksheets": [
  {
   "cells": [
    {
     "cell_type": "code",
     "collapsed": false,
     "input": [
      "cat classes.py"
     ],
     "language": "python",
     "metadata": {},
     "outputs": [
      {
       "output_type": "stream",
       "stream": "stdout",
       "text": [
        "from __future__ import division\r\n",
        "import logging\r\n",
        "import pandas as pd\r\n",
        "import numpy as np\r\n",
        "\r\n",
        "\r\n",
        "# Set up a default logger with a more informative format\r\n",
        "from sklearn.metrics import accuracy_score\r\n",
        "\r\n",
        "\r\n",
        "logger = logging.getLogger('allstate')\r\n",
        "logger.setLevel(logging.DEBUG)\r\n",
        "log_formatter = logging.Formatter('%(asctime)s - %(module)s - %(levelname)s - %(message)s',\r\n",
        "                                  datefmt='%Y-%m-%d %H:%M:%S')\r\n",
        "\r\n",
        "# Log to file, particularly useful for spot instances, since the\r\n",
        "# log will persist even if the instance is killed (if you use a separate EBS volume)\r\n",
        "logfile = logging.FileHandler('run.log')\r\n",
        "logfile.setLevel(logging.DEBUG)\r\n",
        "logfile.setFormatter(log_formatter)\r\n",
        "# Log to console\r\n",
        "logstream = logging.StreamHandler()\r\n",
        "logstream.setLevel(logging.INFO)\r\n",
        "logstream.setFormatter(log_formatter)\r\n",
        "\r\n",
        "logger.addHandler(logfile)\r\n",
        "logger.addHandler(logstream)\r\n",
        "\r\n",
        "\r\n",
        "def get_train_data():\r\n",
        "    \"\"\"\r\n",
        "    Returns the training data\r\n",
        "    \"\"\"\r\n",
        "    return pd.read_csv('data/train.csv')\r\n",
        "\r\n",
        "\r\n",
        "def get_test_data():\r\n",
        "    return pd.read_csv('data/test_v2.csv')\r\n",
        "\r\n",
        "\r\n",
        "def make_submission(df, filename):\r\n",
        "    path = 'submissions/' + filename\r\n",
        "    cols = ['customer_ID', 'plan']\r\n",
        "    for c in cols:\r\n",
        "        assert c in df, \"Column {} must be in the data frame\".format(c)\r\n",
        "    df.to_csv(path, cols=cols, index=False)\r\n",
        "\r\n",
        "\r\n",
        "def concatenate_plan(df):\r\n",
        "    \"\"\"\r\n",
        "    Concatenates the plan columns in a data frame.  Modifies the data frame\r\n",
        "    \"\"\"\r\n",
        "    string_cols = [df[xx].astype(np.str) for xx in 'ABCDEFG']\r\n",
        "    codes = reduce(lambda x, y: x + y, string_cols)\r\n",
        "    df['plan'] = codes\r\n",
        "    return df\r\n",
        "\r\n",
        "\r\n",
        "def split_plan(df):\r\n",
        "    \"\"\"\r\n",
        "    Reverse of concatenate_plan.  Splits the plan column back into the letters\r\n",
        "\r\n",
        "    Mutates the data frame\r\n",
        "    \"\"\"\r\n",
        "    letters = 'ABCDEFG'\r\n",
        "    for i, l in enumerate(letters):\r\n",
        "        df[l] = df['plan'].apply(lambda x: x[i])\r\n",
        "    return df\r\n",
        "\r\n",
        "\r\n",
        "def get_last_observed_plan(df, concatenate_columns=True, additional_cols=None):\r\n",
        "    \"\"\"\r\n",
        "    Given a data frame with at least columns customer_ID, shopping_pt, and A-G,\r\n",
        "    return a data frame with unique customer IDs and the final set of A-G values.\r\n",
        "\r\n",
        "    If concatenate_columns is True, then it collapses A-G to a single column, 'plan'\r\n",
        "    Otherwise it returns the values as individual columns\r\n",
        "\r\n",
        "    This doesn't rely on the record_type column == 1, since that's only present on the training set\r\n",
        "    \"\"\"\r\n",
        "    cols = ['customer_ID', 'shopping_pt', 'A', 'B', 'C', 'D', 'E', 'F', 'G']\r\n",
        "    for c in cols:\r\n",
        "        assert c in df, \"Column {} not found in data frame\".format(c)\r\n",
        "\r\n",
        "    # Assumes that the index is customer_ID\r\n",
        "    max_pts = pd.DataFrame(df.groupby('customer_ID', as_index=False)['shopping_pt'].max())\r\n",
        "    last_plans = pd.merge(max_pts, df, how='left')\r\n",
        "\r\n",
        "    if concatenate_columns:\r\n",
        "        # I think this is faster than apply\r\n",
        "        last_plans = concatenate_plan(last_plans)\r\n",
        "        return_cols = ['customer_ID', 'plan']\r\n",
        "    else:\r\n",
        "        return_cols = ['customer_ID', 'A', 'B', 'C', 'D', 'E', 'F', 'G']\r\n",
        "\r\n",
        "    # Check if we need any additional columns back\r\n",
        "    if additional_cols is not None:\r\n",
        "        return_cols += additional_cols\r\n",
        "\r\n",
        "    return last_plans[return_cols]\r\n",
        "\r\n",
        "\r\n",
        "def get_truncation_point(df, p=0.3):\r\n",
        "    \"\"\"\r\n",
        "    For a data frame of the training data, get the truncation point for each customer's series of shopping\r\n",
        "    points to match the distribution found in the test data set.\r\n",
        "\r\n",
        "    The test set histories are truncated. If the real process went something like:\r\n",
        "\r\n",
        "    Quote1\r\n",
        "    Quote2\r\n",
        "    Quote3\r\n",
        "    Quote4\r\n",
        "    Purchase\r\n",
        "\r\n",
        "    The test set could just have:\r\n",
        "\r\n",
        "    Quote1\r\n",
        "    Quote2\r\n",
        "\r\n",
        "    The distribution appears to be a geometric distribution with p of 0.3 or so\r\n",
        "    \"\"\"\r\n",
        "    purchased_plans = get_last_observed_plan(df, additional_cols=['shopping_pt'])\r\n",
        "    # All test observations have at least 2 shopping points, so we add 1\r\n",
        "    truncate_points = np.random.geometric(p, purchased_plans.shape[0]) + 1\r\n",
        "    # Since last observation is purchased_plans' shopping_pt - 1\r\n",
        "    last_observed = purchased_plans['shopping_pt'] - 1\r\n",
        "    # So the observations then need to be truncated to the min of the truncate point or the last_observed shopping_pt\r\n",
        "    truncate_points = pd.Series(map(min, zip(truncate_points, last_observed)))\r\n",
        "    truncate_points.name = 'truncate'\r\n",
        "    return pd.concat([purchased_plans['customer_ID'], truncate_points], axis=1)\r\n",
        "\r\n",
        "\r\n",
        "def truncate(df):\r\n",
        "    \"\"\"\r\n",
        "    Truncate a training data frame\r\n",
        "\r\n",
        "    Truncation points are a data frame with one row for each customer_ID\r\n",
        "    df has one row for each observation.\r\n",
        "    \"\"\"\r\n",
        "    truncate_points = get_truncation_point(df)\r\n",
        "    mask = pd.merge(df[['customer_ID', 'shopping_pt']], truncate_points, how='left')\r\n",
        "    mask = mask['shopping_pt'] <= mask['truncate']\r\n",
        "    return df.loc[mask]\r\n",
        "\r\n",
        "\r\n",
        "def get_actual_plan(df):\r\n",
        "    \"\"\"\r\n",
        "    Given a data frame of training data, get the actual plan for cross validation\r\n",
        "    \"\"\"\r\n",
        "    purchases = df[df['record_type'] == 1]\r\n",
        "    res = concatenate_plan(purchases)\r\n",
        "    return res[['customer_ID', 'plan']]\r\n",
        "\r\n",
        "\r\n",
        "def score_df(prediction, actual):\r\n",
        "    \"\"\"\r\n",
        "    Expects two data frames with customer_ID and plan columns.\r\n",
        "\r\n",
        "    Does a join on two data frames using customer_ID and checks if the plans are the same.\r\n",
        "    Probably paranoid, but just in case the customer_IDs somehow get out of order\r\n",
        "    \"\"\"\r\n",
        "    merged = pd.merge(prediction, actual, on='customer_ID', suffixes=('_p', '_a'))\r\n",
        "    return accuracy_score(merged['plan_a'], merged['plan_p'])\r\n"
       ]
      }
     ],
     "prompt_number": 1
    },
    {
     "cell_type": "code",
     "collapsed": false,
     "input": [
      "%pylab inline\n",
      "import pandas as pd\n",
      "from classes import *\n",
      "data=pd.read_csv(\"data/train.csv\")"
     ],
     "language": "python",
     "metadata": {},
     "outputs": [
      {
       "output_type": "stream",
       "stream": "stdout",
       "text": [
        "Populating the interactive namespace from numpy and matplotlib\n"
       ]
      }
     ],
     "prompt_number": 5
    },
    {
     "cell_type": "code",
     "collapsed": false,
     "input": [
      "A=get_actual_plan(data)\n",
      "B=get_truncation_point(data)\n",
      "C=concatenate_plan(data)"
     ],
     "language": "python",
     "metadata": {},
     "outputs": [],
     "prompt_number": 6
    },
    {
     "cell_type": "code",
     "collapsed": false,
     "input": [
      "score_df(merged[['customer_ID','plan_x']],merged[['customer_ID','plan_y']])"
     ],
     "language": "python",
     "metadata": {},
     "outputs": [
      {
       "ename": "KeyError",
       "evalue": "u'no item named plan_a'",
       "output_type": "pyerr",
       "traceback": [
        "\u001b[0;31m---------------------------------------------------------------------------\u001b[0m\n\u001b[0;31mKeyError\u001b[0m                                  Traceback (most recent call last)",
        "\u001b[0;32m<ipython-input-31-0677c760ef29>\u001b[0m in \u001b[0;36m<module>\u001b[0;34m()\u001b[0m\n\u001b[0;32m----> 1\u001b[0;31m \u001b[0mscore_df\u001b[0m\u001b[0;34m(\u001b[0m\u001b[0mmerged\u001b[0m\u001b[0;34m[\u001b[0m\u001b[0;34m[\u001b[0m\u001b[0;34m'customer_ID'\u001b[0m\u001b[0;34m,\u001b[0m\u001b[0;34m'plan_x'\u001b[0m\u001b[0;34m]\u001b[0m\u001b[0;34m]\u001b[0m\u001b[0;34m,\u001b[0m\u001b[0mmerged\u001b[0m\u001b[0;34m[\u001b[0m\u001b[0;34m[\u001b[0m\u001b[0;34m'customer_ID'\u001b[0m\u001b[0;34m,\u001b[0m\u001b[0;34m'plan_y'\u001b[0m\u001b[0;34m]\u001b[0m\u001b[0;34m]\u001b[0m\u001b[0;34m)\u001b[0m\u001b[0;34m\u001b[0m\u001b[0m\n\u001b[0m",
        "\u001b[0;32m/Users/timothyelser/zipfian-class/allstate/kaggle-allstate/classes.py\u001b[0m in \u001b[0;36mscore_df\u001b[0;34m(prediction, actual)\u001b[0m\n\u001b[1;32m    162\u001b[0m     \"\"\"\n\u001b[1;32m    163\u001b[0m     \u001b[0mmerged\u001b[0m \u001b[0;34m=\u001b[0m \u001b[0mpd\u001b[0m\u001b[0;34m.\u001b[0m\u001b[0mmerge\u001b[0m\u001b[0;34m(\u001b[0m\u001b[0mprediction\u001b[0m\u001b[0;34m,\u001b[0m \u001b[0mactual\u001b[0m\u001b[0;34m,\u001b[0m \u001b[0mon\u001b[0m\u001b[0;34m=\u001b[0m\u001b[0;34m'customer_ID'\u001b[0m\u001b[0;34m,\u001b[0m \u001b[0msuffixes\u001b[0m\u001b[0;34m=\u001b[0m\u001b[0;34m(\u001b[0m\u001b[0;34m'_p'\u001b[0m\u001b[0;34m,\u001b[0m \u001b[0;34m'_a'\u001b[0m\u001b[0;34m)\u001b[0m\u001b[0;34m)\u001b[0m\u001b[0;34m\u001b[0m\u001b[0m\n\u001b[0;32m--> 164\u001b[0;31m     \u001b[0;32mreturn\u001b[0m \u001b[0maccuracy_score\u001b[0m\u001b[0;34m(\u001b[0m\u001b[0mmerged\u001b[0m\u001b[0;34m[\u001b[0m\u001b[0;34m'plan_a'\u001b[0m\u001b[0;34m]\u001b[0m\u001b[0;34m,\u001b[0m \u001b[0mmerged\u001b[0m\u001b[0;34m[\u001b[0m\u001b[0;34m'plan_p'\u001b[0m\u001b[0;34m]\u001b[0m\u001b[0;34m)\u001b[0m\u001b[0;34m\u001b[0m\u001b[0m\n\u001b[0m",
        "\u001b[0;32m/Users/timothyelser/anaconda/lib/python2.7/site-packages/pandas/core/frame.pyc\u001b[0m in \u001b[0;36m__getitem__\u001b[0;34m(self, key)\u001b[0m\n\u001b[1;32m   1656\u001b[0m             \u001b[0;32mreturn\u001b[0m \u001b[0mself\u001b[0m\u001b[0;34m.\u001b[0m\u001b[0m_getitem_multilevel\u001b[0m\u001b[0;34m(\u001b[0m\u001b[0mkey\u001b[0m\u001b[0;34m)\u001b[0m\u001b[0;34m\u001b[0m\u001b[0m\n\u001b[1;32m   1657\u001b[0m         \u001b[0;32melse\u001b[0m\u001b[0;34m:\u001b[0m\u001b[0;34m\u001b[0m\u001b[0m\n\u001b[0;32m-> 1658\u001b[0;31m             \u001b[0;32mreturn\u001b[0m \u001b[0mself\u001b[0m\u001b[0;34m.\u001b[0m\u001b[0m_getitem_column\u001b[0m\u001b[0;34m(\u001b[0m\u001b[0mkey\u001b[0m\u001b[0;34m)\u001b[0m\u001b[0;34m\u001b[0m\u001b[0m\n\u001b[0m\u001b[1;32m   1659\u001b[0m \u001b[0;34m\u001b[0m\u001b[0m\n\u001b[1;32m   1660\u001b[0m     \u001b[0;32mdef\u001b[0m \u001b[0m_getitem_column\u001b[0m\u001b[0;34m(\u001b[0m\u001b[0mself\u001b[0m\u001b[0;34m,\u001b[0m \u001b[0mkey\u001b[0m\u001b[0;34m)\u001b[0m\u001b[0;34m:\u001b[0m\u001b[0;34m\u001b[0m\u001b[0m\n",
        "\u001b[0;32m/Users/timothyelser/anaconda/lib/python2.7/site-packages/pandas/core/frame.pyc\u001b[0m in \u001b[0;36m_getitem_column\u001b[0;34m(self, key)\u001b[0m\n\u001b[1;32m   1663\u001b[0m         \u001b[0;31m# get column\u001b[0m\u001b[0;34m\u001b[0m\u001b[0;34m\u001b[0m\u001b[0m\n\u001b[1;32m   1664\u001b[0m         \u001b[0;32mif\u001b[0m \u001b[0mself\u001b[0m\u001b[0;34m.\u001b[0m\u001b[0mcolumns\u001b[0m\u001b[0;34m.\u001b[0m\u001b[0mis_unique\u001b[0m\u001b[0;34m:\u001b[0m\u001b[0;34m\u001b[0m\u001b[0m\n\u001b[0;32m-> 1665\u001b[0;31m             \u001b[0;32mreturn\u001b[0m \u001b[0mself\u001b[0m\u001b[0;34m.\u001b[0m\u001b[0m_get_item_cache\u001b[0m\u001b[0;34m(\u001b[0m\u001b[0mkey\u001b[0m\u001b[0;34m)\u001b[0m\u001b[0;34m\u001b[0m\u001b[0m\n\u001b[0m\u001b[1;32m   1666\u001b[0m \u001b[0;34m\u001b[0m\u001b[0m\n\u001b[1;32m   1667\u001b[0m         \u001b[0;31m# duplicate columns & possible reduce dimensionaility\u001b[0m\u001b[0;34m\u001b[0m\u001b[0;34m\u001b[0m\u001b[0m\n",
        "\u001b[0;32m/Users/timothyelser/anaconda/lib/python2.7/site-packages/pandas/core/generic.pyc\u001b[0m in \u001b[0;36m_get_item_cache\u001b[0;34m(self, item)\u001b[0m\n\u001b[1;32m   1003\u001b[0m         \u001b[0mres\u001b[0m \u001b[0;34m=\u001b[0m \u001b[0mcache\u001b[0m\u001b[0;34m.\u001b[0m\u001b[0mget\u001b[0m\u001b[0;34m(\u001b[0m\u001b[0mitem\u001b[0m\u001b[0;34m)\u001b[0m\u001b[0;34m\u001b[0m\u001b[0m\n\u001b[1;32m   1004\u001b[0m         \u001b[0;32mif\u001b[0m \u001b[0mres\u001b[0m \u001b[0;32mis\u001b[0m \u001b[0mNone\u001b[0m\u001b[0;34m:\u001b[0m\u001b[0;34m\u001b[0m\u001b[0m\n\u001b[0;32m-> 1005\u001b[0;31m             \u001b[0mvalues\u001b[0m \u001b[0;34m=\u001b[0m \u001b[0mself\u001b[0m\u001b[0;34m.\u001b[0m\u001b[0m_data\u001b[0m\u001b[0;34m.\u001b[0m\u001b[0mget\u001b[0m\u001b[0;34m(\u001b[0m\u001b[0mitem\u001b[0m\u001b[0;34m)\u001b[0m\u001b[0;34m\u001b[0m\u001b[0m\n\u001b[0m\u001b[1;32m   1006\u001b[0m             \u001b[0mres\u001b[0m \u001b[0;34m=\u001b[0m \u001b[0mself\u001b[0m\u001b[0;34m.\u001b[0m\u001b[0m_box_item_values\u001b[0m\u001b[0;34m(\u001b[0m\u001b[0mitem\u001b[0m\u001b[0;34m,\u001b[0m \u001b[0mvalues\u001b[0m\u001b[0;34m)\u001b[0m\u001b[0;34m\u001b[0m\u001b[0m\n\u001b[1;32m   1007\u001b[0m             \u001b[0mcache\u001b[0m\u001b[0;34m[\u001b[0m\u001b[0mitem\u001b[0m\u001b[0;34m]\u001b[0m \u001b[0;34m=\u001b[0m \u001b[0mres\u001b[0m\u001b[0;34m\u001b[0m\u001b[0m\n",
        "\u001b[0;32m/Users/timothyelser/anaconda/lib/python2.7/site-packages/pandas/core/internals.pyc\u001b[0m in \u001b[0;36mget\u001b[0;34m(self, item)\u001b[0m\n\u001b[1;32m   2871\u001b[0m                 \u001b[0;32mreturn\u001b[0m \u001b[0mself\u001b[0m\u001b[0;34m.\u001b[0m\u001b[0mget_for_nan_indexer\u001b[0m\u001b[0;34m(\u001b[0m\u001b[0mindexer\u001b[0m\u001b[0;34m)\u001b[0m\u001b[0;34m\u001b[0m\u001b[0m\n\u001b[1;32m   2872\u001b[0m \u001b[0;34m\u001b[0m\u001b[0m\n\u001b[0;32m-> 2873\u001b[0;31m             \u001b[0m_\u001b[0m\u001b[0;34m,\u001b[0m \u001b[0mblock\u001b[0m \u001b[0;34m=\u001b[0m \u001b[0mself\u001b[0m\u001b[0;34m.\u001b[0m\u001b[0m_find_block\u001b[0m\u001b[0;34m(\u001b[0m\u001b[0mitem\u001b[0m\u001b[0;34m)\u001b[0m\u001b[0;34m\u001b[0m\u001b[0m\n\u001b[0m\u001b[1;32m   2874\u001b[0m             \u001b[0;32mreturn\u001b[0m \u001b[0mblock\u001b[0m\u001b[0;34m.\u001b[0m\u001b[0mget\u001b[0m\u001b[0;34m(\u001b[0m\u001b[0mitem\u001b[0m\u001b[0;34m)\u001b[0m\u001b[0;34m\u001b[0m\u001b[0m\n\u001b[1;32m   2875\u001b[0m         \u001b[0;32melse\u001b[0m\u001b[0;34m:\u001b[0m\u001b[0;34m\u001b[0m\u001b[0m\n",
        "\u001b[0;32m/Users/timothyelser/anaconda/lib/python2.7/site-packages/pandas/core/internals.pyc\u001b[0m in \u001b[0;36m_find_block\u001b[0;34m(self, item)\u001b[0m\n\u001b[1;32m   3183\u001b[0m \u001b[0;34m\u001b[0m\u001b[0m\n\u001b[1;32m   3184\u001b[0m     \u001b[0;32mdef\u001b[0m \u001b[0m_find_block\u001b[0m\u001b[0;34m(\u001b[0m\u001b[0mself\u001b[0m\u001b[0;34m,\u001b[0m \u001b[0mitem\u001b[0m\u001b[0;34m)\u001b[0m\u001b[0;34m:\u001b[0m\u001b[0;34m\u001b[0m\u001b[0m\n\u001b[0;32m-> 3185\u001b[0;31m         \u001b[0mself\u001b[0m\u001b[0;34m.\u001b[0m\u001b[0m_check_have\u001b[0m\u001b[0;34m(\u001b[0m\u001b[0mitem\u001b[0m\u001b[0;34m)\u001b[0m\u001b[0;34m\u001b[0m\u001b[0m\n\u001b[0m\u001b[1;32m   3186\u001b[0m         \u001b[0;32mfor\u001b[0m \u001b[0mi\u001b[0m\u001b[0;34m,\u001b[0m \u001b[0mblock\u001b[0m \u001b[0;32min\u001b[0m \u001b[0menumerate\u001b[0m\u001b[0;34m(\u001b[0m\u001b[0mself\u001b[0m\u001b[0;34m.\u001b[0m\u001b[0mblocks\u001b[0m\u001b[0;34m)\u001b[0m\u001b[0;34m:\u001b[0m\u001b[0;34m\u001b[0m\u001b[0m\n\u001b[1;32m   3187\u001b[0m             \u001b[0;32mif\u001b[0m \u001b[0mitem\u001b[0m \u001b[0;32min\u001b[0m \u001b[0mblock\u001b[0m\u001b[0;34m:\u001b[0m\u001b[0;34m\u001b[0m\u001b[0m\n",
        "\u001b[0;32m/Users/timothyelser/anaconda/lib/python2.7/site-packages/pandas/core/internals.pyc\u001b[0m in \u001b[0;36m_check_have\u001b[0;34m(self, item)\u001b[0m\n\u001b[1;32m   3190\u001b[0m     \u001b[0;32mdef\u001b[0m \u001b[0m_check_have\u001b[0m\u001b[0;34m(\u001b[0m\u001b[0mself\u001b[0m\u001b[0;34m,\u001b[0m \u001b[0mitem\u001b[0m\u001b[0;34m)\u001b[0m\u001b[0;34m:\u001b[0m\u001b[0;34m\u001b[0m\u001b[0m\n\u001b[1;32m   3191\u001b[0m         \u001b[0;32mif\u001b[0m \u001b[0mitem\u001b[0m \u001b[0;32mnot\u001b[0m \u001b[0;32min\u001b[0m \u001b[0mself\u001b[0m\u001b[0;34m.\u001b[0m\u001b[0mitems\u001b[0m\u001b[0;34m:\u001b[0m\u001b[0;34m\u001b[0m\u001b[0m\n\u001b[0;32m-> 3192\u001b[0;31m             \u001b[0;32mraise\u001b[0m \u001b[0mKeyError\u001b[0m\u001b[0;34m(\u001b[0m\u001b[0;34m'no item named %s'\u001b[0m \u001b[0;34m%\u001b[0m \u001b[0mcom\u001b[0m\u001b[0;34m.\u001b[0m\u001b[0mpprint_thing\u001b[0m\u001b[0;34m(\u001b[0m\u001b[0mitem\u001b[0m\u001b[0;34m)\u001b[0m\u001b[0;34m)\u001b[0m\u001b[0;34m\u001b[0m\u001b[0m\n\u001b[0m\u001b[1;32m   3193\u001b[0m \u001b[0;34m\u001b[0m\u001b[0m\n\u001b[1;32m   3194\u001b[0m     def reindex_axis(self, new_axis, indexer=None, method=None, axis=0,\n",
        "\u001b[0;31mKeyError\u001b[0m: u'no item named plan_a'"
       ]
      }
     ],
     "prompt_number": 31
    },
    {
     "cell_type": "code",
     "collapsed": false,
     "input": [
      "merged=pd.merge(B,A)\n",
      "merged=pd.merge(merged,C[['customer_ID','shopping_pt','plan']],left_on=[\"customer_ID\",\"truncate\"],right_on=[\"customer_ID\",'shopping_pt'],how=\"left\")\n",
      "merged['correct']=0\n",
      "merged['correct'][merged['plan_x']==merged['plan_y']]=1"
     ],
     "language": "python",
     "metadata": {},
     "outputs": [],
     "prompt_number": 7
    },
    {
     "cell_type": "code",
     "collapsed": false,
     "input": [
      "merged[['correct','truncate']].groupby('truncate').mean().plot()"
     ],
     "language": "python",
     "metadata": {},
     "outputs": [
      {
       "metadata": {},
       "output_type": "pyout",
       "prompt_number": 15,
       "text": [
        "<matplotlib.axes.AxesSubplot at 0x60ceb50>"
       ]
      },
      {
       "metadata": {},
       "output_type": "display_data",
       "png": "[encoded data removed]",
       "text": [
        "<matplotlib.figure.Figure at 0x60ce790>"
       ]
      }
     ],
     "prompt_number": 15
    },
    {
     "cell_type": "code",
     "collapsed": false,
     "input": [
      "merged['truncate']"
     ],
     "language": "python",
     "metadata": {},
     "outputs": [
      {
       "metadata": {},
       "output_type": "pyout",
       "prompt_number": 12,
       "text": [
        "0     5\n",
        "1     2\n",
        "2     3\n",
        "3     3\n",
        "4     3\n",
        "5     5\n",
        "6     4\n",
        "7     6\n",
        "8     2\n",
        "9     3\n",
        "10    5\n",
        "11    2\n",
        "12    3\n",
        "13    5\n",
        "14    2\n",
        "...\n",
        "96994    6\n",
        "96995    3\n",
        "96996    3\n",
        "96997    2\n",
        "96998    2\n",
        "96999    2\n",
        "97000    4\n",
        "97001    3\n",
        "97002    4\n",
        "97003    6\n",
        "97004    3\n",
        "97005    3\n",
        "97006    3\n",
        "97007    2\n",
        "97008    2\n",
        "Name: truncate, Length: 97009, dtype: int64"
       ]
      }
     ],
     "prompt_number": 12
    },
    {
     "cell_type": "code",
     "collapsed": false,
     "input": [
      "merged[merged['truncate'] == 13]\n"
     ],
     "language": "python",
     "metadata": {},
     "outputs": [
      {
       "html": [
        "<div style=\"max-height:1000px;max-width:1500px;overflow:auto;\">\n",
        "<table border=\"1\" class=\"dataframe\">\n",
        "  <tbody>\n",
        "    <tr>\n",
        "      <td>Int64Index([], dtype=int64)</td>\n",
        "      <td>Empty DataFrame</td>\n",
        "    </tr>\n",
        "  </tbody>\n",
        "</table>\n",
        "</div>"
       ],
       "metadata": {},
       "output_type": "pyout",
       "prompt_number": 17,
       "text": [
        "Empty DataFrame\n",
        "Columns: [customer_ID, truncate, plan_x, shopping_pt, plan_y, correct]\n",
        "Index: []"
       ]
      }
     ],
     "prompt_number": 17
    },
    {
     "cell_type": "code",
     "collapsed": false,
     "input": [
      "last_obs = data[data['record_type'] == 0]"
     ],
     "language": "python",
     "metadata": {},
     "outputs": [],
     "prompt_number": 19
    },
    {
     "cell_type": "code",
     "collapsed": false,
     "input": [
      "import classes"
     ],
     "language": "python",
     "metadata": {},
     "outputs": [],
     "prompt_number": 21
    },
    {
     "cell_type": "code",
     "collapsed": false,
     "input": [
      "last_obs = classes.get_last_observed_plan(last_obs)"
     ],
     "language": "python",
     "metadata": {},
     "outputs": [],
     "prompt_number": 23
    },
    {
     "cell_type": "code",
     "collapsed": false,
     "input": [
      "truncations = classes.get_truncation_point(data)"
     ],
     "language": "python",
     "metadata": {},
     "outputs": [],
     "prompt_number": 26
    },
    {
     "cell_type": "code",
     "collapsed": false,
     "input": [
      "actuals = data[data['record_type'] == 1]"
     ],
     "language": "python",
     "metadata": {},
     "outputs": [],
     "prompt_number": 28
    },
    {
     "cell_type": "code",
     "collapsed": false,
     "input": [
      "actuals = actuals[['customer_ID', 'shopping_pt', 'plan']]"
     ],
     "language": "python",
     "metadata": {},
     "outputs": [],
     "prompt_number": 32
    },
    {
     "cell_type": "code",
     "collapsed": false,
     "input": [
      "actuals"
     ],
     "language": "python",
     "metadata": {},
     "outputs": [
      {
       "html": [
        "<pre>\n",
        "&lt;class 'pandas.core.frame.DataFrame'&gt;\n",
        "Int64Index: 97009 entries, 8 to 665248\n",
        "Data columns (total 3 columns):\n",
        "customer_ID    97009  non-null values\n",
        "shopping_pt    97009  non-null values\n",
        "plan           97009  non-null values\n",
        "dtypes: int64(2), object(1)\n",
        "</pre>"
       ],
       "metadata": {},
       "output_type": "pyout",
       "prompt_number": 33,
       "text": [
        "<class 'pandas.core.frame.DataFrame'>\n",
        "Int64Index: 97009 entries, 8 to 665248\n",
        "Data columns (total 3 columns):\n",
        "customer_ID    97009  non-null values\n",
        "shopping_pt    97009  non-null values\n",
        "plan           97009  non-null values\n",
        "dtypes: int64(2), object(1)"
       ]
      }
     ],
     "prompt_number": 33
    },
    {
     "cell_type": "code",
     "collapsed": false,
     "input": [
      "score = classes.score_df(last_obs, actuals)"
     ],
     "language": "python",
     "metadata": {},
     "outputs": [],
     "prompt_number": 34
    },
    {
     "cell_type": "code",
     "collapsed": false,
     "input": [
      "merged = pd.merge(last_obs, actuals, on='customer_ID', how='left', suffixes=('_p', '_a'))"
     ],
     "language": "python",
     "metadata": {},
     "outputs": [],
     "prompt_number": 37
    },
    {
     "cell_type": "code",
     "collapsed": false,
     "input": [
      "merged"
     ],
     "language": "python",
     "metadata": {},
     "outputs": [
      {
       "html": [
        "<pre>\n",
        "&lt;class 'pandas.core.frame.DataFrame'&gt;\n",
        "Int64Index: 97009 entries, 0 to 97008\n",
        "Data columns (total 4 columns):\n",
        "customer_ID    97009  non-null values\n",
        "plan_p         97009  non-null values\n",
        "shopping_pt    97009  non-null values\n",
        "plan_a         97009  non-null values\n",
        "dtypes: int64(2), object(2)\n",
        "</pre>"
       ],
       "metadata": {},
       "output_type": "pyout",
       "prompt_number": 38,
       "text": [
        "<class 'pandas.core.frame.DataFrame'>\n",
        "Int64Index: 97009 entries, 0 to 97008\n",
        "Data columns (total 4 columns):\n",
        "customer_ID    97009  non-null values\n",
        "plan_p         97009  non-null values\n",
        "shopping_pt    97009  non-null values\n",
        "plan_a         97009  non-null values\n",
        "dtypes: int64(2), object(2)"
       ]
      }
     ],
     "prompt_number": 38
    },
    {
     "cell_type": "code",
     "collapsed": false,
     "input": [
      "merged['correct'] = merged['plan_p'] == merged['plan_a']"
     ],
     "language": "python",
     "metadata": {},
     "outputs": [],
     "prompt_number": 41
    },
    {
     "cell_type": "code",
     "collapsed": false,
     "input": [
      "merged[['correct', 'shopping_pt']].groupby('shopping_pt').mean()"
     ],
     "language": "python",
     "metadata": {},
     "outputs": [
      {
       "html": [
        "<div style=\"max-height:1000px;max-width:1500px;overflow:auto;\">\n",
        "<table border=\"1\" class=\"dataframe\">\n",
        "  <thead>\n",
        "    <tr style=\"text-align: right;\">\n",
        "      <th></th>\n",
        "      <th>correct</th>\n",
        "    </tr>\n",
        "    <tr>\n",
        "      <th>shopping_pt</th>\n",
        "      <th></th>\n",
        "    </tr>\n",
        "  </thead>\n",
        "  <tbody>\n",
        "    <tr>\n",
        "      <th>3 </th>\n",
        "      <td> 0.497306</td>\n",
        "    </tr>\n",
        "    <tr>\n",
        "      <th>4 </th>\n",
        "      <td> 0.600925</td>\n",
        "    </tr>\n",
        "    <tr>\n",
        "      <th>5 </th>\n",
        "      <td> 0.652498</td>\n",
        "    </tr>\n",
        "    <tr>\n",
        "      <th>6 </th>\n",
        "      <td> 0.681367</td>\n",
        "    </tr>\n",
        "    <tr>\n",
        "      <th>7 </th>\n",
        "      <td> 0.711727</td>\n",
        "    </tr>\n",
        "    <tr>\n",
        "      <th>8 </th>\n",
        "      <td> 0.727273</td>\n",
        "    </tr>\n",
        "    <tr>\n",
        "      <th>9 </th>\n",
        "      <td> 0.743262</td>\n",
        "    </tr>\n",
        "    <tr>\n",
        "      <th>10</th>\n",
        "      <td> 0.740076</td>\n",
        "    </tr>\n",
        "    <tr>\n",
        "      <th>11</th>\n",
        "      <td> 0.747769</td>\n",
        "    </tr>\n",
        "    <tr>\n",
        "      <th>12</th>\n",
        "      <td> 0.749474</td>\n",
        "    </tr>\n",
        "    <tr>\n",
        "      <th>13</th>\n",
        "      <td> 0.660000</td>\n",
        "    </tr>\n",
        "  </tbody>\n",
        "</table>\n",
        "</div>"
       ],
       "metadata": {},
       "output_type": "pyout",
       "prompt_number": 46,
       "text": [
        "              correct\n",
        "shopping_pt          \n",
        "3            0.497306\n",
        "4            0.600925\n",
        "5            0.652498\n",
        "6            0.681367\n",
        "7            0.711727\n",
        "8            0.727273\n",
        "9            0.743262\n",
        "10           0.740076\n",
        "11           0.747769\n",
        "12           0.749474\n",
        "13           0.660000"
       ]
      }
     ],
     "prompt_number": 46
    },
    {
     "cell_type": "code",
     "collapsed": false,
     "input": [],
     "language": "python",
     "metadata": {},
     "outputs": []
    }
   ],
   "metadata": {}
  }
 ]
}