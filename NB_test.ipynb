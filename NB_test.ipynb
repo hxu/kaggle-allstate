{
 "metadata": {
  "name": ""
 },
 "nbformat": 3,
 "nbformat_minor": 0,
 "worksheets": [
  {
   "cells": [
    {
     "cell_type": "code",
     "collapsed": false,
     "input": [
      "import numpy as np\n",
      "import pandas as pd\n",
      "from sklearn.naive_bayes import BernoulliNB\n",
      "from sklearn.feature_extraction.text import CountVectorizer\n",
      "from sklearn.preprocessing import LabelBinarizer\n",
      "from sklearn import metrics\n",
      "from sklearn.cross_validation import cross_val_score,train_test_split\n",
      "from sklearn.pipeline import Pipeline\n",
      "from sklearn.ensemble import GradientBoostingClassifier\n",
      "from sklearn_pandas import DataFrameMapper\n",
      "\n",
      "class return_self:\n",
      "    def __init__(self):\n",
      "        return\n",
      "    def fit(self,x):\n",
      "        return(x)\n",
      "    def fit_transform(self,x):\n",
      "        return(x)\n",
      "    def transform(self,x):\n",
      "        return(x)\n"
     ],
     "language": "python",
     "metadata": {},
     "outputs": [],
     "prompt_number": 48
    },
    {
     "cell_type": "code",
     "collapsed": false,
     "input": [
      "data=pd.read_csv('twopriors.csv')\n"
     ],
     "language": "python",
     "metadata": {},
     "outputs": [],
     "prompt_number": 49
    },
    {
     "cell_type": "code",
     "collapsed": false,
     "input": [
      "data.keys()\n"
     ],
     "language": "python",
     "metadata": {},
     "outputs": [
      {
       "metadata": {},
       "output_type": "pyout",
       "prompt_number": 50,
       "text": [
        "Index([u'age_oldest', u'age_youngest', u'car_age', u'car_value', u'day', u'duration_previous', u'group_size', u'homeowner', u'location', u'married_couple', u'prior_seq1', u'prior_seq2', u'purchased', u'state'], dtype='object')"
       ]
      }
     ],
     "prompt_number": 50
    },
    {
     "cell_type": "code",
     "collapsed": false,
     "input": [
      "CLF=BernoulliNB(alpha=.001)\n",
      "#CLF=GradientBoostingClassifier(n_estimators=10)\n",
      "LB=LabelBinarizer()\n",
      "LB1=LabelBinarizer()\n",
      "mapper=DataFrameMapper([('prior_seq1'),('prior_seq1',LabelBinarizer()),('age_youngest',return_self()),('car_age',return_self()),('car_value',return_self()),('day',LabelBinarizer()),('duration_previous',return_self()),('group_size',return_self()),('homeowner',return_self())])"
     ],
     "language": "python",
     "metadata": {},
     "outputs": [],
     "prompt_number": 51
    },
    {
     "cell_type": "code",
     "collapsed": false,
     "input": [
      "#scores=cross_val_score(pip,data['prior_seq'],data['purchased'],scoring='accuracy',cv=2)\n",
      "X_train, X_test, y_train, y_test = train_test_split(data[['prior_seq1','prior_seq2']], data['purchased'], test_size=0.4, random_state=0)"
     ],
     "language": "python",
     "metadata": {},
     "outputs": [],
     "prompt_number": 52
    },
    {
     "cell_type": "code",
     "collapsed": false,
     "input": [
      "LB.fit(X_train[:,0])\n",
      "LB1.fit(X_train[:,1])\n",
      "CLF.fit(np.concatenate([LB.transform(X_train[:,0]),LB1.transform(X_train[:,1])],axis=1),y_train)"
     ],
     "language": "python",
     "metadata": {},
     "outputs": [
      {
       "metadata": {},
       "output_type": "pyout",
       "prompt_number": 53,
       "text": [
        "BernoulliNB(alpha=0.001, binarize=0.0, class_prior=None, fit_prior=True)"
       ]
      }
     ],
     "prompt_number": 53
    },
    {
     "cell_type": "code",
     "collapsed": false,
     "input": [
      "CLF.score(np.concatenate([LB.transform(X_test[:,0]),LB1.transform(X_test[:,1])],axis=1),y_test)"
     ],
     "language": "python",
     "metadata": {},
     "outputs": [
      {
       "metadata": {},
       "output_type": "pyout",
       "prompt_number": 54,
       "text": [
        "0.53303783115142767"
       ]
      }
     ],
     "prompt_number": 54
    },
    {
     "cell_type": "code",
     "collapsed": false,
     "input": [
      "test_benchmark=pd.DataFrame({'purchased':y_test,'prior_seq1':X_test[:,0]})"
     ],
     "language": "python",
     "metadata": {},
     "outputs": [],
     "prompt_number": 55
    },
    {
     "cell_type": "code",
     "collapsed": false,
     "input": [
      "test_benchmark['accuracy']=0\n",
      "test_benchmark['accuracy'][test_benchmark['purchased']==test_benchmark['prior_seq1']]=1"
     ],
     "language": "python",
     "metadata": {},
     "outputs": [],
     "prompt_number": 56
    },
    {
     "cell_type": "code",
     "collapsed": false,
     "input": [
      "test_benchmark['accuracy'].mean()\n"
     ],
     "language": "python",
     "metadata": {},
     "outputs": [
      {
       "metadata": {},
       "output_type": "pyout",
       "prompt_number": 57,
       "text": [
        "0.55319039274301618"
       ]
      }
     ],
     "prompt_number": 57
    }
   ],
   "metadata": {}
  }
 ]
}