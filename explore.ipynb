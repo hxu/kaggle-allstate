{
 "metadata": {
  "name": "",
  "signature": "sha256:71dfbd65371cec2ee962159c81b4836cf1551aaa10e228d951cea1431660ce6e"
 },
 "nbformat": 3,
 "nbformat_minor": 0,
 "worksheets": [
  {
   "cells": [
    {
     "cell_type": "code",
     "collapsed": false,
     "input": [
      "\"\"\"\n",
      "Exploration of the data\n",
      "\"\"\"\n",
      "%pylab inline\n",
      "from __future__ import division\n",
      "import pandas as pd\n",
      "import classes"
     ],
     "language": "python",
     "metadata": {},
     "outputs": [
      {
       "output_type": "stream",
       "stream": "stdout",
       "text": [
        "Populating the interactive namespace from numpy and matplotlib\n"
       ]
      }
     ],
     "prompt_number": 33
    },
    {
     "cell_type": "code",
     "collapsed": false,
     "input": [
      "train = classes.get_train_data()"
     ],
     "language": "python",
     "metadata": {},
     "outputs": [],
     "prompt_number": 2
    },
    {
     "cell_type": "code",
     "collapsed": false,
     "input": [
      "reload(classes)"
     ],
     "language": "python",
     "metadata": {},
     "outputs": [
      {
       "metadata": {},
       "output_type": "pyout",
       "prompt_number": 19,
       "text": [
        "<module 'classes' from 'classes.pyc'>"
       ]
      }
     ],
     "prompt_number": 19
    },
    {
     "cell_type": "code",
     "collapsed": false,
     "input": [
      "train"
     ],
     "language": "python",
     "metadata": {},
     "outputs": [
      {
       "html": [
        "<pre>\n",
        "&lt;class 'pandas.core.frame.DataFrame'&gt;\n",
        "Int64Index: 665249 entries, 0 to 665248\n",
        "Data columns (total 25 columns):\n",
        "customer_ID          665249  non-null values\n",
        "shopping_pt          665249  non-null values\n",
        "record_type          665249  non-null values\n",
        "day                  665249  non-null values\n",
        "time                 665249  non-null values\n",
        "state                665249  non-null values\n",
        "location             665249  non-null values\n",
        "group_size           665249  non-null values\n",
        "homeowner            665249  non-null values\n",
        "car_age              665249  non-null values\n",
        "car_value            663718  non-null values\n",
        "risk_factor          424831  non-null values\n",
        "age_oldest           665249  non-null values\n",
        "age_youngest         665249  non-null values\n",
        "married_couple       665249  non-null values\n",
        "C_previous           646538  non-null values\n",
        "duration_previous    646538  non-null values\n",
        "A                    665249  non-null values\n",
        "B                    665249  non-null values\n",
        "C                    665249  non-null values\n",
        "D                    665249  non-null values\n",
        "E                    665249  non-null values\n",
        "F                    665249  non-null values\n",
        "G                    665249  non-null values\n",
        "cost                 665249  non-null values\n",
        "dtypes: float64(3), int64(19), object(3)\n",
        "</pre>"
       ],
       "metadata": {},
       "output_type": "pyout",
       "prompt_number": 3,
       "text": [
        "<class 'pandas.core.frame.DataFrame'>\n",
        "Int64Index: 665249 entries, 0 to 665248\n",
        "Data columns (total 25 columns):\n",
        "customer_ID          665249  non-null values\n",
        "shopping_pt          665249  non-null values\n",
        "record_type          665249  non-null values\n",
        "day                  665249  non-null values\n",
        "time                 665249  non-null values\n",
        "state                665249  non-null values\n",
        "location             665249  non-null values\n",
        "group_size           665249  non-null values\n",
        "homeowner            665249  non-null values\n",
        "car_age              665249  non-null values\n",
        "car_value            663718  non-null values\n",
        "risk_factor          424831  non-null values\n",
        "age_oldest           665249  non-null values\n",
        "age_youngest         665249  non-null values\n",
        "married_couple       665249  non-null values\n",
        "C_previous           646538  non-null values\n",
        "duration_previous    646538  non-null values\n",
        "A                    665249  non-null values\n",
        "B                    665249  non-null values\n",
        "C                    665249  non-null values\n",
        "D                    665249  non-null values\n",
        "E                    665249  non-null values\n",
        "F                    665249  non-null values\n",
        "G                    665249  non-null values\n",
        "cost                 665249  non-null values\n",
        "dtypes: float64(3), int64(19), object(3)"
       ]
      }
     ],
     "prompt_number": 3
    },
    {
     "cell_type": "code",
     "collapsed": false,
     "input": [
      "train.dtypes\n",
      "# Time can be parsed in to hours and minutes\n",
      "# State should be converted to an int\n",
      "# Car value should be converted to an int"
     ],
     "language": "python",
     "metadata": {},
     "outputs": [
      {
       "metadata": {},
       "output_type": "pyout",
       "prompt_number": 4,
       "text": [
        "customer_ID            int64\n",
        "shopping_pt            int64\n",
        "record_type            int64\n",
        "day                    int64\n",
        "time                  object\n",
        "state                 object\n",
        "location               int64\n",
        "group_size             int64\n",
        "homeowner              int64\n",
        "car_age                int64\n",
        "car_value             object\n",
        "risk_factor          float64\n",
        "age_oldest             int64\n",
        "age_youngest           int64\n",
        "married_couple         int64\n",
        "C_previous           float64\n",
        "duration_previous    float64\n",
        "A                      int64\n",
        "B                      int64\n",
        "C                      int64\n",
        "D                      int64\n",
        "E                      int64\n",
        "F                      int64\n",
        "G                      int64\n",
        "cost                   int64\n",
        "dtype: object"
       ]
      }
     ],
     "prompt_number": 4
    },
    {
     "cell_type": "code",
     "collapsed": false,
     "input": [
      "train['car_value'].unique()"
     ],
     "language": "python",
     "metadata": {},
     "outputs": [
      {
       "metadata": {},
       "output_type": "pyout",
       "prompt_number": 12,
       "text": [
        "array(['g', 'e', 'c', 'd', 'f', nan, 'h', 'i', 'b', 'a'], dtype=object)"
       ]
      }
     ],
     "prompt_number": 12
    },
    {
     "cell_type": "code",
     "collapsed": false,
     "input": [
      "train['risk_factor'].unique()"
     ],
     "language": "python",
     "metadata": {},
     "outputs": [
      {
       "metadata": {},
       "output_type": "pyout",
       "prompt_number": 13,
       "text": [
        "array([  3.,   4.,  nan,   2.,   1.])"
       ]
      }
     ],
     "prompt_number": 13
    },
    {
     "cell_type": "code",
     "collapsed": false,
     "input": [
      "train['C_previous'].unique()"
     ],
     "language": "python",
     "metadata": {},
     "outputs": [
      {
       "metadata": {},
       "output_type": "pyout",
       "prompt_number": 14,
       "text": [
        "array([  1.,   3.,   2.,   4.,  nan])"
       ]
      }
     ],
     "prompt_number": 14
    },
    {
     "cell_type": "code",
     "collapsed": false,
     "input": [
      "desc = train.describe()"
     ],
     "language": "python",
     "metadata": {},
     "outputs": [],
     "prompt_number": 17
    },
    {
     "cell_type": "code",
     "collapsed": false,
     "input": [
      "desc.iloc[:, 0:7]"
     ],
     "language": "python",
     "metadata": {},
     "outputs": [
      {
       "html": [
        "<div style=\"max-height:1000px;max-width:1500px;overflow:auto;\">\n",
        "<table border=\"1\" class=\"dataframe\">\n",
        "  <thead>\n",
        "    <tr style=\"text-align: right;\">\n",
        "      <th></th>\n",
        "      <th>customer_ID</th>\n",
        "      <th>shopping_pt</th>\n",
        "      <th>record_type</th>\n",
        "      <th>day</th>\n",
        "      <th>location</th>\n",
        "      <th>group_size</th>\n",
        "      <th>homeowner</th>\n",
        "    </tr>\n",
        "  </thead>\n",
        "  <tbody>\n",
        "    <tr>\n",
        "      <th>count</th>\n",
        "      <td>   665249.000000</td>\n",
        "      <td> 665249.000000</td>\n",
        "      <td> 665249.000000</td>\n",
        "      <td> 665249.000000</td>\n",
        "      <td> 665249.000000</td>\n",
        "      <td> 665249.000000</td>\n",
        "      <td> 665249.000000</td>\n",
        "    </tr>\n",
        "    <tr>\n",
        "      <th>mean</th>\n",
        "      <td> 10076553.440219</td>\n",
        "      <td>      4.219966</td>\n",
        "      <td>      0.145824</td>\n",
        "      <td>      1.969429</td>\n",
        "      <td>  12271.543022</td>\n",
        "      <td>      1.234784</td>\n",
        "      <td>      0.536229</td>\n",
        "    </tr>\n",
        "    <tr>\n",
        "      <th>std</th>\n",
        "      <td>    44049.778757</td>\n",
        "      <td>      2.394369</td>\n",
        "      <td>      0.352930</td>\n",
        "      <td>      1.453470</td>\n",
        "      <td>   1564.789415</td>\n",
        "      <td>      0.461036</td>\n",
        "      <td>      0.498686</td>\n",
        "    </tr>\n",
        "    <tr>\n",
        "      <th>min</th>\n",
        "      <td> 10000000.000000</td>\n",
        "      <td>      1.000000</td>\n",
        "      <td>      0.000000</td>\n",
        "      <td>      0.000000</td>\n",
        "      <td>  10001.000000</td>\n",
        "      <td>      1.000000</td>\n",
        "      <td>      0.000000</td>\n",
        "    </tr>\n",
        "    <tr>\n",
        "      <th>25%</th>\n",
        "      <td> 10038523.000000</td>\n",
        "      <td>      2.000000</td>\n",
        "      <td>      0.000000</td>\n",
        "      <td>      1.000000</td>\n",
        "      <td>  10936.000000</td>\n",
        "      <td>      1.000000</td>\n",
        "      <td>      0.000000</td>\n",
        "    </tr>\n",
        "    <tr>\n",
        "      <th>50%</th>\n",
        "      <td> 10076403.000000</td>\n",
        "      <td>      4.000000</td>\n",
        "      <td>      0.000000</td>\n",
        "      <td>      2.000000</td>\n",
        "      <td>  12027.000000</td>\n",
        "      <td>      1.000000</td>\n",
        "      <td>      1.000000</td>\n",
        "    </tr>\n",
        "    <tr>\n",
        "      <th>75%</th>\n",
        "      <td> 10114696.000000</td>\n",
        "      <td>      6.000000</td>\n",
        "      <td>      0.000000</td>\n",
        "      <td>      3.000000</td>\n",
        "      <td>  13426.000000</td>\n",
        "      <td>      1.000000</td>\n",
        "      <td>      1.000000</td>\n",
        "    </tr>\n",
        "    <tr>\n",
        "      <th>max</th>\n",
        "      <td> 10152724.000000</td>\n",
        "      <td>     13.000000</td>\n",
        "      <td>      1.000000</td>\n",
        "      <td>      6.000000</td>\n",
        "      <td>  16580.000000</td>\n",
        "      <td>      4.000000</td>\n",
        "      <td>      1.000000</td>\n",
        "    </tr>\n",
        "  </tbody>\n",
        "</table>\n",
        "</div>"
       ],
       "metadata": {},
       "output_type": "pyout",
       "prompt_number": 24,
       "text": [
        "           customer_ID    shopping_pt    record_type            day  \\\n",
        "count    665249.000000  665249.000000  665249.000000  665249.000000   \n",
        "mean   10076553.440219       4.219966       0.145824       1.969429   \n",
        "std       44049.778757       2.394369       0.352930       1.453470   \n",
        "min    10000000.000000       1.000000       0.000000       0.000000   \n",
        "25%    10038523.000000       2.000000       0.000000       1.000000   \n",
        "50%    10076403.000000       4.000000       0.000000       2.000000   \n",
        "75%    10114696.000000       6.000000       0.000000       3.000000   \n",
        "max    10152724.000000      13.000000       1.000000       6.000000   \n",
        "\n",
        "            location     group_size      homeowner  \n",
        "count  665249.000000  665249.000000  665249.000000  \n",
        "mean    12271.543022       1.234784       0.536229  \n",
        "std      1564.789415       0.461036       0.498686  \n",
        "min     10001.000000       1.000000       0.000000  \n",
        "25%     10936.000000       1.000000       0.000000  \n",
        "50%     12027.000000       1.000000       1.000000  \n",
        "75%     13426.000000       1.000000       1.000000  \n",
        "max     16580.000000       4.000000       1.000000  "
       ]
      }
     ],
     "prompt_number": 24
    },
    {
     "cell_type": "code",
     "collapsed": false,
     "input": [
      "desc.iloc[:, 7:]"
     ],
     "language": "python",
     "metadata": {},
     "outputs": [
      {
       "html": [
        "<div style=\"max-height:1000px;max-width:1500px;overflow:auto;\">\n",
        "<table border=\"1\" class=\"dataframe\">\n",
        "  <thead>\n",
        "    <tr style=\"text-align: right;\">\n",
        "      <th></th>\n",
        "      <th>car_age</th>\n",
        "      <th>risk_factor</th>\n",
        "      <th>age_oldest</th>\n",
        "      <th>age_youngest</th>\n",
        "      <th>married_couple</th>\n",
        "      <th>C_previous</th>\n",
        "      <th>duration_previous</th>\n",
        "      <th>A</th>\n",
        "      <th>B</th>\n",
        "      <th>C</th>\n",
        "      <th>D</th>\n",
        "      <th>E</th>\n",
        "      <th>F</th>\n",
        "      <th>G</th>\n",
        "      <th>cost</th>\n",
        "    </tr>\n",
        "  </thead>\n",
        "  <tbody>\n",
        "    <tr>\n",
        "      <th>count</th>\n",
        "      <td> 665249.000000</td>\n",
        "      <td> 424831.000000</td>\n",
        "      <td> 665249.000000</td>\n",
        "      <td> 665249.000000</td>\n",
        "      <td> 665249.000000</td>\n",
        "      <td> 646538.000000</td>\n",
        "      <td> 646538.000000</td>\n",
        "      <td> 665249.000000</td>\n",
        "      <td> 665249.000000</td>\n",
        "      <td> 665249.000000</td>\n",
        "      <td> 665249.000000</td>\n",
        "      <td> 665249.000000</td>\n",
        "      <td> 665249.000000</td>\n",
        "      <td> 665249.000000</td>\n",
        "      <td> 665249.000000</td>\n",
        "    </tr>\n",
        "    <tr>\n",
        "      <th>mean</th>\n",
        "      <td>      8.139437</td>\n",
        "      <td>      2.563996</td>\n",
        "      <td>     44.992403</td>\n",
        "      <td>     42.577588</td>\n",
        "      <td>      0.209782</td>\n",
        "      <td>      2.444718</td>\n",
        "      <td>      6.003774</td>\n",
        "      <td>      0.927546</td>\n",
        "      <td>      0.454236</td>\n",
        "      <td>      2.275265</td>\n",
        "      <td>      2.454299</td>\n",
        "      <td>      0.445193</td>\n",
        "      <td>      1.162768</td>\n",
        "      <td>      2.275120</td>\n",
        "      <td>    635.785008</td>\n",
        "    </tr>\n",
        "    <tr>\n",
        "      <th>std</th>\n",
        "      <td>      5.764598</td>\n",
        "      <td>      1.111584</td>\n",
        "      <td>     17.403440</td>\n",
        "      <td>     17.460432</td>\n",
        "      <td>      0.407153</td>\n",
        "      <td>      1.034596</td>\n",
        "      <td>      4.680793</td>\n",
        "      <td>      0.595221</td>\n",
        "      <td>      0.497902</td>\n",
        "      <td>      0.990798</td>\n",
        "      <td>      0.753953</td>\n",
        "      <td>      0.496987</td>\n",
        "      <td>      0.943594</td>\n",
        "      <td>      0.909567</td>\n",
        "      <td>     45.993758</td>\n",
        "    </tr>\n",
        "    <tr>\n",
        "      <th>min</th>\n",
        "      <td>      0.000000</td>\n",
        "      <td>      1.000000</td>\n",
        "      <td>     18.000000</td>\n",
        "      <td>     16.000000</td>\n",
        "      <td>      0.000000</td>\n",
        "      <td>      1.000000</td>\n",
        "      <td>      0.000000</td>\n",
        "      <td>      0.000000</td>\n",
        "      <td>      0.000000</td>\n",
        "      <td>      1.000000</td>\n",
        "      <td>      1.000000</td>\n",
        "      <td>      0.000000</td>\n",
        "      <td>      0.000000</td>\n",
        "      <td>      1.000000</td>\n",
        "      <td>    260.000000</td>\n",
        "    </tr>\n",
        "    <tr>\n",
        "      <th>25%</th>\n",
        "      <td>      3.000000</td>\n",
        "      <td>      2.000000</td>\n",
        "      <td>     28.000000</td>\n",
        "      <td>     26.000000</td>\n",
        "      <td>      0.000000</td>\n",
        "      <td>      1.000000</td>\n",
        "      <td>      2.000000</td>\n",
        "      <td>      1.000000</td>\n",
        "      <td>      0.000000</td>\n",
        "      <td>      1.000000</td>\n",
        "      <td>      2.000000</td>\n",
        "      <td>      0.000000</td>\n",
        "      <td>      0.000000</td>\n",
        "      <td>      2.000000</td>\n",
        "      <td>    605.000000</td>\n",
        "    </tr>\n",
        "    <tr>\n",
        "      <th>50%</th>\n",
        "      <td>      7.000000</td>\n",
        "      <td>      3.000000</td>\n",
        "      <td>     44.000000</td>\n",
        "      <td>     40.000000</td>\n",
        "      <td>      0.000000</td>\n",
        "      <td>      3.000000</td>\n",
        "      <td>      5.000000</td>\n",
        "      <td>      1.000000</td>\n",
        "      <td>      0.000000</td>\n",
        "      <td>      2.000000</td>\n",
        "      <td>      3.000000</td>\n",
        "      <td>      0.000000</td>\n",
        "      <td>      1.000000</td>\n",
        "      <td>      2.000000</td>\n",
        "      <td>    635.000000</td>\n",
        "    </tr>\n",
        "    <tr>\n",
        "      <th>75%</th>\n",
        "      <td>     12.000000</td>\n",
        "      <td>      4.000000</td>\n",
        "      <td>     60.000000</td>\n",
        "      <td>     57.000000</td>\n",
        "      <td>      0.000000</td>\n",
        "      <td>      3.000000</td>\n",
        "      <td>      9.000000</td>\n",
        "      <td>      1.000000</td>\n",
        "      <td>      1.000000</td>\n",
        "      <td>      3.000000</td>\n",
        "      <td>      3.000000</td>\n",
        "      <td>      1.000000</td>\n",
        "      <td>      2.000000</td>\n",
        "      <td>      3.000000</td>\n",
        "      <td>    665.000000</td>\n",
        "    </tr>\n",
        "    <tr>\n",
        "      <th>max</th>\n",
        "      <td>     85.000000</td>\n",
        "      <td>      4.000000</td>\n",
        "      <td>     75.000000</td>\n",
        "      <td>     75.000000</td>\n",
        "      <td>      1.000000</td>\n",
        "      <td>      4.000000</td>\n",
        "      <td>     15.000000</td>\n",
        "      <td>      2.000000</td>\n",
        "      <td>      1.000000</td>\n",
        "      <td>      4.000000</td>\n",
        "      <td>      3.000000</td>\n",
        "      <td>      1.000000</td>\n",
        "      <td>      3.000000</td>\n",
        "      <td>      4.000000</td>\n",
        "      <td>    922.000000</td>\n",
        "    </tr>\n",
        "  </tbody>\n",
        "</table>\n",
        "</div>"
       ],
       "metadata": {},
       "output_type": "pyout",
       "prompt_number": 25,
       "text": [
        "             car_age    risk_factor     age_oldest   age_youngest  \\\n",
        "count  665249.000000  424831.000000  665249.000000  665249.000000   \n",
        "mean        8.139437       2.563996      44.992403      42.577588   \n",
        "std         5.764598       1.111584      17.403440      17.460432   \n",
        "min         0.000000       1.000000      18.000000      16.000000   \n",
        "25%         3.000000       2.000000      28.000000      26.000000   \n",
        "50%         7.000000       3.000000      44.000000      40.000000   \n",
        "75%        12.000000       4.000000      60.000000      57.000000   \n",
        "max        85.000000       4.000000      75.000000      75.000000   \n",
        "\n",
        "       married_couple     C_previous  duration_previous              A  \\\n",
        "count   665249.000000  646538.000000      646538.000000  665249.000000   \n",
        "mean         0.209782       2.444718           6.003774       0.927546   \n",
        "std          0.407153       1.034596           4.680793       0.595221   \n",
        "min          0.000000       1.000000           0.000000       0.000000   \n",
        "25%          0.000000       1.000000           2.000000       1.000000   \n",
        "50%          0.000000       3.000000           5.000000       1.000000   \n",
        "75%          0.000000       3.000000           9.000000       1.000000   \n",
        "max          1.000000       4.000000          15.000000       2.000000   \n",
        "\n",
        "                   B              C              D              E  \\\n",
        "count  665249.000000  665249.000000  665249.000000  665249.000000   \n",
        "mean        0.454236       2.275265       2.454299       0.445193   \n",
        "std         0.497902       0.990798       0.753953       0.496987   \n",
        "min         0.000000       1.000000       1.000000       0.000000   \n",
        "25%         0.000000       1.000000       2.000000       0.000000   \n",
        "50%         0.000000       2.000000       3.000000       0.000000   \n",
        "75%         1.000000       3.000000       3.000000       1.000000   \n",
        "max         1.000000       4.000000       3.000000       1.000000   \n",
        "\n",
        "                   F              G           cost  \n",
        "count  665249.000000  665249.000000  665249.000000  \n",
        "mean        1.162768       2.275120     635.785008  \n",
        "std         0.943594       0.909567      45.993758  \n",
        "min         0.000000       1.000000     260.000000  \n",
        "25%         0.000000       2.000000     605.000000  \n",
        "50%         1.000000       2.000000     635.000000  \n",
        "75%         2.000000       3.000000     665.000000  \n",
        "max         3.000000       4.000000     922.000000  "
       ]
      }
     ],
     "prompt_number": 25
    },
    {
     "cell_type": "code",
     "collapsed": false,
     "input": [
      "# Q: The docs say that the customer characteristics may change over time -- for how many customers does this occur?"
     ],
     "language": "python",
     "metadata": {},
     "outputs": []
    },
    {
     "cell_type": "code",
     "collapsed": false,
     "input": [
      "train['customer_ID'].value_counts().value_counts()"
     ],
     "language": "python",
     "metadata": {},
     "outputs": [
      {
       "metadata": {},
       "output_type": "pyout",
       "prompt_number": 7,
       "text": [
        "7     18590\n",
        "8     17248\n",
        "6     15623\n",
        "9     11985\n",
        "5     11269\n",
        "4      8001\n",
        "10     6071\n",
        "3      5568\n",
        "11     2129\n",
        "12      475\n",
        "13       50\n",
        "dtype: int64"
       ]
      }
     ],
     "prompt_number": 7
    },
    {
     "cell_type": "code",
     "collapsed": false,
     "input": [
      "# How large is the variation in error rates for each plan feature\n",
      "truncated = classes.truncate(train)\n",
      "prediction = classes.get_last_observed_plan(truncated)"
     ],
     "language": "python",
     "metadata": {},
     "outputs": [],
     "prompt_number": 9
    },
    {
     "cell_type": "code",
     "collapsed": false,
     "input": [
      "truncated"
     ],
     "language": "python",
     "metadata": {},
     "outputs": [
      {
       "html": [
        "<pre>\n",
        "&lt;class 'pandas.core.frame.DataFrame'&gt;\n",
        "Int64Index: 346653 entries, 0 to 665246\n",
        "Data columns (total 25 columns):\n",
        "customer_ID          346653  non-null values\n",
        "shopping_pt          346653  non-null values\n",
        "record_type          346653  non-null values\n",
        "day                  346653  non-null values\n",
        "time                 346653  non-null values\n",
        "state                346653  non-null values\n",
        "location             346653  non-null values\n",
        "group_size           346653  non-null values\n",
        "homeowner            346653  non-null values\n",
        "car_age              346653  non-null values\n",
        "car_value            345440  non-null values\n",
        "risk_factor          219599  non-null values\n",
        "age_oldest           346653  non-null values\n",
        "age_youngest         346653  non-null values\n",
        "married_couple       346653  non-null values\n",
        "C_previous           333207  non-null values\n",
        "duration_previous    333207  non-null values\n",
        "A                    346653  non-null values\n",
        "B                    346653  non-null values\n",
        "C                    346653  non-null values\n",
        "D                    346653  non-null values\n",
        "E                    346653  non-null values\n",
        "F                    346653  non-null values\n",
        "G                    346653  non-null values\n",
        "cost                 346653  non-null values\n",
        "dtypes: float64(3), int64(19), object(3)\n",
        "</pre>"
       ],
       "metadata": {},
       "output_type": "pyout",
       "prompt_number": 10,
       "text": [
        "<class 'pandas.core.frame.DataFrame'>\n",
        "Int64Index: 346653 entries, 0 to 665246\n",
        "Data columns (total 25 columns):\n",
        "customer_ID          346653  non-null values\n",
        "shopping_pt          346653  non-null values\n",
        "record_type          346653  non-null values\n",
        "day                  346653  non-null values\n",
        "time                 346653  non-null values\n",
        "state                346653  non-null values\n",
        "location             346653  non-null values\n",
        "group_size           346653  non-null values\n",
        "homeowner            346653  non-null values\n",
        "car_age              346653  non-null values\n",
        "car_value            345440  non-null values\n",
        "risk_factor          219599  non-null values\n",
        "age_oldest           346653  non-null values\n",
        "age_youngest         346653  non-null values\n",
        "married_couple       346653  non-null values\n",
        "C_previous           333207  non-null values\n",
        "duration_previous    333207  non-null values\n",
        "A                    346653  non-null values\n",
        "B                    346653  non-null values\n",
        "C                    346653  non-null values\n",
        "D                    346653  non-null values\n",
        "E                    346653  non-null values\n",
        "F                    346653  non-null values\n",
        "G                    346653  non-null values\n",
        "cost                 346653  non-null values\n",
        "dtypes: float64(3), int64(19), object(3)"
       ]
      }
     ],
     "prompt_number": 10
    },
    {
     "cell_type": "code",
     "collapsed": false,
     "input": [
      "prediction"
     ],
     "language": "python",
     "metadata": {},
     "outputs": [
      {
       "html": [
        "<pre>\n",
        "&lt;class 'pandas.core.frame.DataFrame'&gt;\n",
        "Int64Index: 97009 entries, 0 to 97008\n",
        "Data columns (total 9 columns):\n",
        "customer_ID    97009  non-null values\n",
        "plan           97009  non-null values\n",
        "A              97009  non-null values\n",
        "B              97009  non-null values\n",
        "C              97009  non-null values\n",
        "D              97009  non-null values\n",
        "E              97009  non-null values\n",
        "F              97009  non-null values\n",
        "G              97009  non-null values\n",
        "dtypes: int64(1), object(8)\n",
        "</pre>"
       ],
       "metadata": {},
       "output_type": "pyout",
       "prompt_number": 16,
       "text": [
        "<class 'pandas.core.frame.DataFrame'>\n",
        "Int64Index: 97009 entries, 0 to 97008\n",
        "Data columns (total 9 columns):\n",
        "customer_ID    97009  non-null values\n",
        "plan           97009  non-null values\n",
        "A              97009  non-null values\n",
        "B              97009  non-null values\n",
        "C              97009  non-null values\n",
        "D              97009  non-null values\n",
        "E              97009  non-null values\n",
        "F              97009  non-null values\n",
        "G              97009  non-null values\n",
        "dtypes: int64(1), object(8)"
       ]
      }
     ],
     "prompt_number": 16
    },
    {
     "cell_type": "code",
     "collapsed": false,
     "input": [
      "actuals = classes.get_actual_plan(train)"
     ],
     "language": "python",
     "metadata": {},
     "outputs": [],
     "prompt_number": 12
    },
    {
     "cell_type": "code",
     "collapsed": false,
     "input": [
      "prediction = classes.split_plan(prediction)"
     ],
     "language": "python",
     "metadata": {},
     "outputs": [],
     "prompt_number": 14
    },
    {
     "cell_type": "code",
     "collapsed": false,
     "input": [
      "actuals = classes.split_plan(actuals)"
     ],
     "language": "python",
     "metadata": {},
     "outputs": [],
     "prompt_number": 15
    },
    {
     "cell_type": "code",
     "collapsed": false,
     "input": [
      "scores = classes.col_score_df(prediction, actuals)"
     ],
     "language": "python",
     "metadata": {},
     "outputs": [
      {
       "output_type": "stream",
       "stream": "stderr",
       "text": [
        "2014-04-19 07:44:21 - classes - INFO - Feature A, score 0.879660650043\n"
       ]
      },
      {
       "output_type": "stream",
       "stream": "stderr",
       "text": [
        "2014-04-19 07:44:21 - classes - INFO - Feature A, score 0.879660650043\n"
       ]
      },
      {
       "output_type": "stream",
       "stream": "stderr",
       "text": [
        "2014-04-19 07:44:21 - classes - INFO - Feature A, score 0.879660650043\n"
       ]
      },
      {
       "output_type": "stream",
       "stream": "stderr",
       "text": [
        "INFO:allstate:Feature A, score 0.879660650043\n"
       ]
      },
      {
       "output_type": "stream",
       "stream": "stderr",
       "text": [
        "2014-04-19 07:44:21 - classes - INFO - Feature B, score 0.889536022431\n"
       ]
      },
      {
       "output_type": "stream",
       "stream": "stderr",
       "text": [
        "2014-04-19 07:44:21 - classes - INFO - Feature B, score 0.889536022431\n"
       ]
      },
      {
       "output_type": "stream",
       "stream": "stderr",
       "text": [
        "2014-04-19 07:44:21 - classes - INFO - Feature B, score 0.889536022431\n"
       ]
      },
      {
       "output_type": "stream",
       "stream": "stderr",
       "text": [
        "INFO:allstate:Feature B, score 0.889536022431\n"
       ]
      },
      {
       "output_type": "stream",
       "stream": "stderr",
       "text": [
        "2014-04-19 07:44:22 - classes - INFO - Feature C, score 0.873382882001\n"
       ]
      },
      {
       "output_type": "stream",
       "stream": "stderr",
       "text": [
        "2014-04-19 07:44:22 - classes - INFO - Feature C, score 0.873382882001\n"
       ]
      },
      {
       "output_type": "stream",
       "stream": "stderr",
       "text": [
        "2014-04-19 07:44:22 - classes - INFO - Feature C, score 0.873382882001\n"
       ]
      },
      {
       "output_type": "stream",
       "stream": "stderr",
       "text": [
        "INFO:allstate:Feature C, score 0.873382882001\n"
       ]
      },
      {
       "output_type": "stream",
       "stream": "stderr",
       "text": [
        "2014-04-19 07:44:22 - classes - INFO - Feature D, score 0.905060355225\n"
       ]
      },
      {
       "output_type": "stream",
       "stream": "stderr",
       "text": [
        "2014-04-19 07:44:22 - classes - INFO - Feature D, score 0.905060355225\n"
       ]
      },
      {
       "output_type": "stream",
       "stream": "stderr",
       "text": [
        "2014-04-19 07:44:22 - classes - INFO - Feature D, score 0.905060355225\n"
       ]
      },
      {
       "output_type": "stream",
       "stream": "stderr",
       "text": [
        "INFO:allstate:Feature D, score 0.905060355225\n"
       ]
      },
      {
       "output_type": "stream",
       "stream": "stderr",
       "text": [
        "2014-04-19 07:44:22 - classes - INFO - Feature E, score 0.891247203868\n"
       ]
      },
      {
       "output_type": "stream",
       "stream": "stderr",
       "text": [
        "2014-04-19 07:44:22 - classes - INFO - Feature E, score 0.891247203868\n"
       ]
      },
      {
       "output_type": "stream",
       "stream": "stderr",
       "text": [
        "2014-04-19 07:44:22 - classes - INFO - Feature E, score 0.891247203868\n"
       ]
      },
      {
       "output_type": "stream",
       "stream": "stderr",
       "text": [
        "INFO:allstate:Feature E, score 0.891247203868\n"
       ]
      },
      {
       "output_type": "stream",
       "stream": "stderr",
       "text": [
        "2014-04-19 07:44:22 - classes - INFO - Feature F, score 0.875887804224\n"
       ]
      },
      {
       "output_type": "stream",
       "stream": "stderr",
       "text": [
        "2014-04-19 07:44:22 - classes - INFO - Feature F, score 0.875887804224\n"
       ]
      },
      {
       "output_type": "stream",
       "stream": "stderr",
       "text": [
        "2014-04-19 07:44:22 - classes - INFO - Feature F, score 0.875887804224\n"
       ]
      },
      {
       "output_type": "stream",
       "stream": "stderr",
       "text": [
        "INFO:allstate:Feature F, score 0.875887804224\n"
       ]
      },
      {
       "output_type": "stream",
       "stream": "stderr",
       "text": [
        "2014-04-19 07:44:22 - classes - INFO - Feature G, score 0.80510055768\n"
       ]
      },
      {
       "output_type": "stream",
       "stream": "stderr",
       "text": [
        "2014-04-19 07:44:22 - classes - INFO - Feature G, score 0.80510055768\n"
       ]
      },
      {
       "output_type": "stream",
       "stream": "stderr",
       "text": [
        "2014-04-19 07:44:22 - classes - INFO - Feature G, score 0.80510055768\n"
       ]
      },
      {
       "output_type": "stream",
       "stream": "stderr",
       "text": [
        "INFO:allstate:Feature G, score 0.80510055768\n"
       ]
      }
     ],
     "prompt_number": 20
    },
    {
     "cell_type": "code",
     "collapsed": false,
     "input": [
      "score = classes.score_df(prediction ,actuals)"
     ],
     "language": "python",
     "metadata": {},
     "outputs": [],
     "prompt_number": 22
    },
    {
     "cell_type": "code",
     "collapsed": false,
     "input": [
      "score"
     ],
     "language": "python",
     "metadata": {},
     "outputs": [
      {
       "metadata": {},
       "output_type": "pyout",
       "prompt_number": 23,
       "text": [
        "0.54852642538321184"
       ]
      }
     ],
     "prompt_number": 23
    },
    {
     "cell_type": "code",
     "collapsed": false,
     "input": [
      "(prediction['A'] == actuals['A']).mean()"
     ],
     "language": "python",
     "metadata": {},
     "outputs": [
      {
       "metadata": {},
       "output_type": "pyout",
       "prompt_number": 30,
       "text": [
        "0.87966065004277949"
       ]
      }
     ],
     "prompt_number": 30
    },
    {
     "cell_type": "code",
     "collapsed": false,
     "input": [
      "actuals"
     ],
     "language": "python",
     "metadata": {},
     "outputs": [
      {
       "html": [
        "<pre>\n",
        "&lt;class 'pandas.core.frame.DataFrame'&gt;\n",
        "Int64Index: 97009 entries, 8 to 665248\n",
        "Data columns (total 9 columns):\n",
        "customer_ID    97009  non-null values\n",
        "plan           97009  non-null values\n",
        "A              97009  non-null values\n",
        "B              97009  non-null values\n",
        "C              97009  non-null values\n",
        "D              97009  non-null values\n",
        "E              97009  non-null values\n",
        "F              97009  non-null values\n",
        "G              97009  non-null values\n",
        "dtypes: int64(1), object(8)\n",
        "</pre>"
       ],
       "metadata": {},
       "output_type": "pyout",
       "prompt_number": 27,
       "text": [
        "<class 'pandas.core.frame.DataFrame'>\n",
        "Int64Index: 97009 entries, 8 to 665248\n",
        "Data columns (total 9 columns):\n",
        "customer_ID    97009  non-null values\n",
        "plan           97009  non-null values\n",
        "A              97009  non-null values\n",
        "B              97009  non-null values\n",
        "C              97009  non-null values\n",
        "D              97009  non-null values\n",
        "E              97009  non-null values\n",
        "F              97009  non-null values\n",
        "G              97009  non-null values\n",
        "dtypes: int64(1), object(8)"
       ]
      }
     ],
     "prompt_number": 27
    },
    {
     "cell_type": "code",
     "collapsed": false,
     "input": [
      "pd.crosstab(actuals['A'], actuals['B'], margins=True) / actuals.shape[0]"
     ],
     "language": "python",
     "metadata": {},
     "outputs": [
      {
       "html": [
        "<div style=\"max-height:1000px;max-width:1500px;overflow:auto;\">\n",
        "<table border=\"1\" class=\"dataframe\">\n",
        "  <thead>\n",
        "    <tr style=\"text-align: right;\">\n",
        "      <th>B</th>\n",
        "      <th>0</th>\n",
        "      <th>1</th>\n",
        "      <th>All</th>\n",
        "    </tr>\n",
        "    <tr>\n",
        "      <th>A</th>\n",
        "      <th></th>\n",
        "      <th></th>\n",
        "      <th></th>\n",
        "    </tr>\n",
        "  </thead>\n",
        "  <tbody>\n",
        "    <tr>\n",
        "      <th>0</th>\n",
        "      <td> 0.154841</td>\n",
        "      <td> 0.065530</td>\n",
        "      <td> 0.220371</td>\n",
        "    </tr>\n",
        "    <tr>\n",
        "      <th>1</th>\n",
        "      <td> 0.282551</td>\n",
        "      <td> 0.331639</td>\n",
        "      <td> 0.614190</td>\n",
        "    </tr>\n",
        "    <tr>\n",
        "      <th>2</th>\n",
        "      <td> 0.086518</td>\n",
        "      <td> 0.078921</td>\n",
        "      <td> 0.165438</td>\n",
        "    </tr>\n",
        "    <tr>\n",
        "      <th>All</th>\n",
        "      <td> 0.523910</td>\n",
        "      <td> 0.476090</td>\n",
        "      <td> 1.000000</td>\n",
        "    </tr>\n",
        "  </tbody>\n",
        "</table>\n",
        "</div>"
       ],
       "metadata": {},
       "output_type": "pyout",
       "prompt_number": 35,
       "text": [
        "B           0         1       All\n",
        "A                                \n",
        "0    0.154841  0.065530  0.220371\n",
        "1    0.282551  0.331639  0.614190\n",
        "2    0.086518  0.078921  0.165438\n",
        "All  0.523910  0.476090  1.000000"
       ]
      }
     ],
     "prompt_number": 35
    },
    {
     "cell_type": "code",
     "collapsed": false,
     "input": [
      "pd.pivot_table(actuals, rows=['A'], aggfunc=np.count_nonzero)"
     ],
     "language": "python",
     "metadata": {},
     "outputs": [
      {
       "html": [
        "<div style=\"max-height:1000px;max-width:1500px;overflow:auto;\">\n",
        "<table border=\"1\" class=\"dataframe\">\n",
        "  <thead>\n",
        "    <tr style=\"text-align: right;\">\n",
        "      <th></th>\n",
        "      <th>B</th>\n",
        "      <th>C</th>\n",
        "      <th>D</th>\n",
        "      <th>E</th>\n",
        "      <th>F</th>\n",
        "      <th>G</th>\n",
        "      <th>customer_ID</th>\n",
        "      <th>plan</th>\n",
        "    </tr>\n",
        "    <tr>\n",
        "      <th>A</th>\n",
        "      <th></th>\n",
        "      <th></th>\n",
        "      <th></th>\n",
        "      <th></th>\n",
        "      <th></th>\n",
        "      <th></th>\n",
        "      <th></th>\n",
        "      <th></th>\n",
        "    </tr>\n",
        "  </thead>\n",
        "  <tbody>\n",
        "    <tr>\n",
        "      <th>0</th>\n",
        "      <td> 192402</td>\n",
        "      <td> 192402</td>\n",
        "      <td> 192402</td>\n",
        "      <td> 192402</td>\n",
        "      <td> 192402</td>\n",
        "      <td> 192402</td>\n",
        "      <td> 192402</td>\n",
        "      <td> 192402</td>\n",
        "    </tr>\n",
        "    <tr>\n",
        "      <th>1</th>\n",
        "      <td> 536238</td>\n",
        "      <td> 536238</td>\n",
        "      <td> 536238</td>\n",
        "      <td> 536238</td>\n",
        "      <td> 536238</td>\n",
        "      <td> 536238</td>\n",
        "      <td> 536238</td>\n",
        "      <td> 536238</td>\n",
        "    </tr>\n",
        "    <tr>\n",
        "      <th>2</th>\n",
        "      <td> 144441</td>\n",
        "      <td> 144441</td>\n",
        "      <td> 144441</td>\n",
        "      <td> 144441</td>\n",
        "      <td> 144441</td>\n",
        "      <td> 144441</td>\n",
        "      <td> 144441</td>\n",
        "      <td> 144441</td>\n",
        "    </tr>\n",
        "  </tbody>\n",
        "</table>\n",
        "</div>"
       ],
       "metadata": {},
       "output_type": "pyout",
       "prompt_number": 45,
       "text": [
        "        B       C       D       E       F       G  customer_ID    plan\n",
        "A                                                                     \n",
        "0  192402  192402  192402  192402  192402  192402       192402  192402\n",
        "1  536238  536238  536238  536238  536238  536238       536238  536238\n",
        "2  144441  144441  144441  144441  144441  144441       144441  144441"
       ]
      }
     ],
     "prompt_number": 45
    },
    {
     "cell_type": "code",
     "collapsed": false,
     "input": [
      "actuals['A'].value_counts(True)"
     ],
     "language": "python",
     "metadata": {},
     "outputs": [
      {
       "metadata": {},
       "output_type": "pyout",
       "prompt_number": 50,
       "text": [
        "1    0.614190\n",
        "0    0.220371\n",
        "2    0.165438\n",
        "dtype: float64"
       ]
      }
     ],
     "prompt_number": 50
    },
    {
     "cell_type": "code",
     "collapsed": false,
     "input": [
      "classes.logger.handlers"
     ],
     "language": "python",
     "metadata": {},
     "outputs": [
      {
       "metadata": {},
       "output_type": "pyout",
       "prompt_number": 53,
       "text": [
        "[<logging.FileHandler at 0x4bed850>,\n",
        " <logging.StreamHandler at 0x4bed8d0>,\n",
        " <logging.FileHandler at 0x4bedc90>,\n",
        " <logging.StreamHandler at 0x2d71c50>,\n",
        " <logging.FileHandler at 0xc5b2c50>,\n",
        " <logging.StreamHandler at 0xc5b2a50>]"
       ]
      }
     ],
     "prompt_number": 53
    },
    {
     "cell_type": "code",
     "collapsed": false,
     "input": [],
     "language": "python",
     "metadata": {},
     "outputs": []
    }
   ],
   "metadata": {}
  }
 ]
}