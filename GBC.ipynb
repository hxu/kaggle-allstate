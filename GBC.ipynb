{
 "metadata": {
  "name": ""
 },
 "nbformat": 3,
 "nbformat_minor": 0,
 "worksheets": [
  {
   "cells": [
    {
     "cell_type": "code",
     "collapsed": false,
     "input": [
      "import numpy as np\n",
      "import pandas as pd\n",
      "from sklearn.feature_extraction.text import CountVectorizer\n",
      "from sklearn.preprocessing import LabelBinarizer\n",
      "from sklearn import metrics\n",
      "from sklearn.cross_validation import cross_val_score,train_test_split\n",
      "from sklearn.pipeline import Pipeline\n",
      "from sklearn.ensemble import GradientBoostingClassifier\n",
      "from sklearn_pandas import DataFrameMapper\n",
      "\n",
      "class count_wrapper():\n",
      "    def __init__self():\n",
      "        self.b={}\n",
      "        self.b['A']=CountVectorizer()\n",
      "        return(self)\n",
      "    def fit(self,X,y=None):\n",
      "        self.b['A'].fit(X)\n",
      "        return(self)\n",
      "    def fit_transform(self,X,y=None):\n",
      "        self.b['A'].fit(X)\n",
      "        return(self.CV.transform(X).todense())\n",
      "    def transform(self,X,y=None):\n",
      "        return(self.b['A'].transform(X).todense())\n",
      "class count_wrapper2(CountVectorizer):\n",
      "    def translate(self,X):\n",
      "        B=CountVectorizer.transform(X)\n",
      "        return(CountVectorizer.transform(X).todense())\n",
      "        \n",
      "\n",
      "class return_self:\n",
      "    def __init__(self):\n",
      "        return\n",
      "    def fit(self,x):\n",
      "        return\n",
      "    def fit_transform(self,x):\n",
      "        return(x)\n",
      "    def transform(self,x):\n",
      "        return(np.reshape(x,(len(x),1)))\n",
      "    def predict(self,x):\n",
      "        return(x)\n",
      "class transform_columns():\n",
      "    def __init__(self,dataframe,instructions):\n",
      "        self.transform_dict={}\n",
      "        self.instructions=instructions\n",
      "        for column in self.instructions.keys():\n",
      "            print column\n",
      "            self.instructions[column].fit(np.array(dataframe[column]))\n",
      "    def transform(self,dataframe):\n",
      "        transforms=[]\n",
      "        for column in self.instructions.keys():\n",
      "            print column\n",
      "            try:\n",
      "                transforms.append(self.instructions[column].transform(np.array(dataframe[column])))\n",
      "            except:\n",
      "                transforms.append(self.instructions[column].transform(np.array(dataframe[column])).todense())\n",
      "        return(np.concatenate(transforms,axis=1))\n"
     ],
     "language": "python",
     "metadata": {},
     "outputs": [],
     "prompt_number": 21
    },
    {
     "cell_type": "code",
     "collapsed": false,
     "input": [
      "data=pd.read_csv('twopriors.csv')\n",
      "#data['prior_seq1']=data['prior_seq1'].apply(str)\n",
      "#data['prior_seq2']=data['prior_seq2'].apply(str)\n",
      "#data['purchased']=data['purchased'].apply(str)"
     ],
     "language": "python",
     "metadata": {},
     "outputs": [],
     "prompt_number": 10
    },
    {
     "cell_type": "code",
     "collapsed": false,
     "input": [
      "data=data.reindex(np.random.permutation(data.index))\n",
      "data.keys()"
     ],
     "language": "python",
     "metadata": {},
     "outputs": [
      {
       "metadata": {},
       "output_type": "pyout",
       "prompt_number": 11,
       "text": [
        "Index([u'age_oldest', u'age_youngest', u'car_age', u'car_value', u'day', u'duration_previous', u'group_size', u'homeowner', u'location', u'married_couple', u'prior_seq1', u'prior_seq2', u'purchased', u'state'], dtype='object')"
       ]
      }
     ],
     "prompt_number": 11
    },
    {
     "cell_type": "code",
     "collapsed": false,
     "input": [
      "CLF=GradientBoostingClassifier(n_estimators=50)\n",
      "#mapper=DataFrameMapper([('prior_seq2',CountVectorizer()),('prior_seq1',CountVectorizer()),('age_youngest',return_self())])#,('car_age',return_self()),('car_value',return_self()),('day',LabelBinarizer()),('duration_previous',return_self()),('group_size',return_self()),('homeowner',return_self()),('state',return_self())])"
     ],
     "language": "python",
     "metadata": {},
     "outputs": [],
     "prompt_number": 12
    },
    {
     "cell_type": "code",
     "collapsed": false,
     "input": [
      "train=data[0:70000]\n",
      "test=data[70000:]"
     ],
     "language": "python",
     "metadata": {},
     "outputs": [],
     "prompt_number": 22
    },
    {
     "cell_type": "code",
     "collapsed": false,
     "input": [
      "#CLF.fit(mapper.fit_transform(train),train['purchased'])\n",
      "#data['group_size']"
     ],
     "language": "python",
     "metadata": {},
     "outputs": [],
     "prompt_number": 14
    },
    {
     "cell_type": "code",
     "collapsed": false,
     "input": [
      "mapper=transform_columns(train,{\"prior_seq1\":LabelBinarizer(),\"prior_seq2\":LabelBinarizer(),\"age_oldest\":return_self(),\"car_age\":return_self(),\"car_value\":return_self(),\"day\":LabelBinarizer(),\"duration_previous\":return_self(),\"group_size\":return_self(),\"homeowner\":return_self(),\"location\":LabelBinarizer(),\"married_couple\":return_self(),\"state\":count_wrapper2()})\n",
      "CLF.fit(mapper.transform(train),train['purchased'])"
     ],
     "language": "python",
     "metadata": {},
     "outputs": [
      {
       "output_type": "stream",
       "stream": "stdout",
       "text": [
        "car_age\n",
        "age_oldest\n",
        "group_size\n",
        "prior_seq2\n",
        "prior_seq1\n",
        "homeowner\n",
        "married_couple\n",
        "duration_previous\n",
        "car_value\n",
        "day\n",
        "state\n",
        "location"
       ]
      },
      {
       "output_type": "stream",
       "stream": "stdout",
       "text": [
        "\n",
        "car_age\n",
        "age_oldest\n",
        "group_size\n",
        "prior_seq2\n",
        "prior_seq1"
       ]
      },
      {
       "output_type": "stream",
       "stream": "stdout",
       "text": [
        "\n",
        "homeowner"
       ]
      },
      {
       "output_type": "stream",
       "stream": "stdout",
       "text": [
        "\n",
        "married_couple\n",
        "duration_previous\n",
        "car_value\n",
        "day\n",
        "state\n",
        "location"
       ]
      },
      {
       "ename": "ValueError",
       "evalue": "all the input arrays must have same number of dimensions",
       "output_type": "pyerr",
       "traceback": [
        "\u001b[0;31m---------------------------------------------------------------------------\u001b[0m\n\u001b[0;31mValueError\u001b[0m                                Traceback (most recent call last)",
        "\u001b[0;32m<ipython-input-23-c54cea4e76c4>\u001b[0m in \u001b[0;36m<module>\u001b[0;34m()\u001b[0m\n\u001b[1;32m      1\u001b[0m \u001b[0mmapper\u001b[0m\u001b[0;34m=\u001b[0m\u001b[0mtransform_columns\u001b[0m\u001b[0;34m(\u001b[0m\u001b[0mtrain\u001b[0m\u001b[0;34m,\u001b[0m\u001b[0;34m{\u001b[0m\u001b[0;34m\"prior_seq1\"\u001b[0m\u001b[0;34m:\u001b[0m\u001b[0mLabelBinarizer\u001b[0m\u001b[0;34m(\u001b[0m\u001b[0;34m)\u001b[0m\u001b[0;34m,\u001b[0m\u001b[0;34m\"prior_seq2\"\u001b[0m\u001b[0;34m:\u001b[0m\u001b[0mLabelBinarizer\u001b[0m\u001b[0;34m(\u001b[0m\u001b[0;34m)\u001b[0m\u001b[0;34m,\u001b[0m\u001b[0;34m\"age_oldest\"\u001b[0m\u001b[0;34m:\u001b[0m\u001b[0mreturn_self\u001b[0m\u001b[0;34m(\u001b[0m\u001b[0;34m)\u001b[0m\u001b[0;34m,\u001b[0m\u001b[0;34m\"car_age\"\u001b[0m\u001b[0;34m:\u001b[0m\u001b[0mreturn_self\u001b[0m\u001b[0;34m(\u001b[0m\u001b[0;34m)\u001b[0m\u001b[0;34m,\u001b[0m\u001b[0;34m\"car_value\"\u001b[0m\u001b[0;34m:\u001b[0m\u001b[0mreturn_self\u001b[0m\u001b[0;34m(\u001b[0m\u001b[0;34m)\u001b[0m\u001b[0;34m,\u001b[0m\u001b[0;34m\"day\"\u001b[0m\u001b[0;34m:\u001b[0m\u001b[0mLabelBinarizer\u001b[0m\u001b[0;34m(\u001b[0m\u001b[0;34m)\u001b[0m\u001b[0;34m,\u001b[0m\u001b[0;34m\"duration_previous\"\u001b[0m\u001b[0;34m:\u001b[0m\u001b[0mreturn_self\u001b[0m\u001b[0;34m(\u001b[0m\u001b[0;34m)\u001b[0m\u001b[0;34m,\u001b[0m\u001b[0;34m\"group_size\"\u001b[0m\u001b[0;34m:\u001b[0m\u001b[0mreturn_self\u001b[0m\u001b[0;34m(\u001b[0m\u001b[0;34m)\u001b[0m\u001b[0;34m,\u001b[0m\u001b[0;34m\"homeowner\"\u001b[0m\u001b[0;34m:\u001b[0m\u001b[0mreturn_self\u001b[0m\u001b[0;34m(\u001b[0m\u001b[0;34m)\u001b[0m\u001b[0;34m,\u001b[0m\u001b[0;34m\"location\"\u001b[0m\u001b[0;34m:\u001b[0m\u001b[0mLabelBinarizer\u001b[0m\u001b[0;34m(\u001b[0m\u001b[0;34m)\u001b[0m\u001b[0;34m,\u001b[0m\u001b[0;34m\"married_couple\"\u001b[0m\u001b[0;34m:\u001b[0m\u001b[0mreturn_self\u001b[0m\u001b[0;34m(\u001b[0m\u001b[0;34m)\u001b[0m\u001b[0;34m,\u001b[0m\u001b[0;34m\"state\"\u001b[0m\u001b[0;34m:\u001b[0m\u001b[0mcount_wrapper2\u001b[0m\u001b[0;34m(\u001b[0m\u001b[0;34m)\u001b[0m\u001b[0;34m}\u001b[0m\u001b[0;34m)\u001b[0m\u001b[0;34m\u001b[0m\u001b[0m\n\u001b[0;32m----> 2\u001b[0;31m \u001b[0mCLF\u001b[0m\u001b[0;34m.\u001b[0m\u001b[0mfit\u001b[0m\u001b[0;34m(\u001b[0m\u001b[0mmapper\u001b[0m\u001b[0;34m.\u001b[0m\u001b[0mtransform\u001b[0m\u001b[0;34m(\u001b[0m\u001b[0mtrain\u001b[0m\u001b[0;34m)\u001b[0m\u001b[0;34m,\u001b[0m\u001b[0mtrain\u001b[0m\u001b[0;34m[\u001b[0m\u001b[0;34m'purchased'\u001b[0m\u001b[0;34m]\u001b[0m\u001b[0;34m)\u001b[0m\u001b[0;34m\u001b[0m\u001b[0m\n\u001b[0m",
        "\u001b[0;32m<ipython-input-21-ee47eb7daf5d>\u001b[0m in \u001b[0;36mtransform\u001b[0;34m(self, dataframe)\u001b[0m\n\u001b[1;32m     54\u001b[0m             \u001b[0;32mexcept\u001b[0m\u001b[0;34m:\u001b[0m\u001b[0;34m\u001b[0m\u001b[0m\n\u001b[1;32m     55\u001b[0m                 \u001b[0mtransforms\u001b[0m\u001b[0;34m.\u001b[0m\u001b[0mappend\u001b[0m\u001b[0;34m(\u001b[0m\u001b[0mself\u001b[0m\u001b[0;34m.\u001b[0m\u001b[0minstructions\u001b[0m\u001b[0;34m[\u001b[0m\u001b[0mcolumn\u001b[0m\u001b[0;34m]\u001b[0m\u001b[0;34m.\u001b[0m\u001b[0mtransform\u001b[0m\u001b[0;34m(\u001b[0m\u001b[0mnp\u001b[0m\u001b[0;34m.\u001b[0m\u001b[0marray\u001b[0m\u001b[0;34m(\u001b[0m\u001b[0mdataframe\u001b[0m\u001b[0;34m[\u001b[0m\u001b[0mcolumn\u001b[0m\u001b[0;34m]\u001b[0m\u001b[0;34m)\u001b[0m\u001b[0;34m)\u001b[0m\u001b[0;34m.\u001b[0m\u001b[0mtodense\u001b[0m\u001b[0;34m(\u001b[0m\u001b[0;34m)\u001b[0m\u001b[0;34m)\u001b[0m\u001b[0;34m\u001b[0m\u001b[0m\n\u001b[0;32m---> 56\u001b[0;31m         \u001b[0;32mreturn\u001b[0m\u001b[0;34m(\u001b[0m\u001b[0mnp\u001b[0m\u001b[0;34m.\u001b[0m\u001b[0mconcatenate\u001b[0m\u001b[0;34m(\u001b[0m\u001b[0mtransforms\u001b[0m\u001b[0;34m,\u001b[0m\u001b[0maxis\u001b[0m\u001b[0;34m=\u001b[0m\u001b[0;36m1\u001b[0m\u001b[0;34m)\u001b[0m\u001b[0;34m)\u001b[0m\u001b[0;34m\u001b[0m\u001b[0m\n\u001b[0m",
        "\u001b[0;31mValueError\u001b[0m: all the input arrays must have same number of dimensions"
       ]
      },
      {
       "output_type": "stream",
       "stream": "stdout",
       "text": [
        "\n"
       ]
      }
     ],
     "prompt_number": 23
    },
    {
     "cell_type": "code",
     "collapsed": false,
     "input": [
      "#LB=CountVectorizer()\n",
      "#LB.fit(np.array(data['state']))\n",
      "#len(set(data['location']))\n",
      "#mapper.transform(train)\n",
      "#mapper2=transform_columns(train,{\"prior_seq1\":LabelBinarizer(),\"prior_seq2\":LabelBinarizer(),\"age_oldest\":return_self(),\"car_age\":return_self(),\"car_value\":return_self(),\"day\":LabelBinarizer(),\"duration_previous\":return_self(),\"group_size\":return_self(),\"homeowner\":return_self(),\"location\":LabelBinarizer(),\"married_couple\":return_self()})#,\"state\":CountVectorizer()})\n",
      "#mapper2.transform(train).shape\n",
      "#A=return_self()\n",
      "#A.fit(train['married_couple'])\n",
      "#A.transform(train['married_couple']).shape\n",
      "B=count_wrapper2()\n",
      "B.fit(train['state']).fit_transform(train['state'])"
     ],
     "language": "python",
     "metadata": {},
     "outputs": [
      {
       "metadata": {},
       "output_type": "pyout",
       "prompt_number": 20,
       "text": [
        "<70000x36 sparse matrix of type '<type 'numpy.int64'>'\n",
        "\twith 70000 stored elements in Compressed Sparse Column format>"
       ]
      }
     ],
     "prompt_number": 20
    },
    {
     "cell_type": "code",
     "collapsed": false,
     "input": [
      "B.fit(train['state'])"
     ],
     "language": "python",
     "metadata": {},
     "outputs": []
    }
   ],
   "metadata": {}
  }
 ]
}